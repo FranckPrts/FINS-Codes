{
 "cells": [
  {
   "attachments": {},
   "cell_type": "markdown",
   "metadata": {},
   "source": [
    "# Realign two EEGLab.Epoch object's epochs.\n",
    "\n",
    "@Author [@FranckPrts](hstate_dictps://github.com/FranckPrts).\n",
    "\n",
    "Here we provide a python-based solution to **realign concurrent epochs contained in two epoched object that lost their alignement because of losing their concurrence during preprocessing.**\n",
    "\n",
    "After procedding to preprocessing in EEGLAB, the data were saved in `.set` format. When later loading this data, the \n",
    "\n",
    "Our main goal here is to remove epochs in a given EEG that should have been removed during preprocessing when the concurent epoch in the other EEG was. At the end, we should have two epoched EEG with the same amount of epochs and where each epoch at a given index correspond what was curcurent while recording.\n",
    "\n",
    "As exemplified below: "
   ]
  },
  {
   "cell_type": "markdown",
   "metadata": {},
   "source": [
    "#IMAGE"
   ]
  },
  {
   "attachments": {},
   "cell_type": "markdown",
   "metadata": {},
   "source": [
    "Things that might be idiosynchratic:\n",
    "\n",
    "1. Our EEG data was segmented in 1sec epochs (which helps with congruency between epochs and the time they where collected).\n",
    "2. Preprocessing was done independelty for each EEG data. \n",
    "3. Each dyad were preprocessed 2-3 times (iteration).\n",
    "    - epochs ID that were rejected were noted in a separate file between each round.\n",
    "    - the objects were save at the end of each iteration and re-read after so .\n",
    "\n",
    "Our issue arise from the fact that once each step was performed, saving the data would lead to losing track of what was the epochs original IDs. \n",
    "\n",
    "In that process we see that an epoch that originally had the ID #6 can end up with the new ID #3. \n",
    "\n",
    "To retrieve the original id of the epoch, we will have to work bakward from the last iteration of preprocessing to the first iteration. At each step we will store what was the previous ID of the epochs so we can find their original IDs. "
   ]
  },
  {
   "attachments": {},
   "cell_type": "markdown",
   "metadata": {},
   "source": [
    "## Imports"
   ]
  },
  {
   "cell_type": "code",
   "execution_count": 2,
   "metadata": {},
   "outputs": [],
   "source": [
    "# Package \n",
    "import mne\n",
    "import numpy as np\n",
    "import pandas as pd\n",
    "\n",
    "# Custom functions\n",
    "from utils import align_utils\n",
    "\n",
    "# %matplotlib inline"
   ]
  },
  {
   "cell_type": "markdown",
   "metadata": {},
   "source": [
    "We import two eeg stream that were preprocessed in MATLAB"
   ]
  },
  {
   "cell_type": "code",
   "execution_count": 3,
   "metadata": {},
   "outputs": [],
   "source": [
    "files_to_process = np.loadtxt(\"files_to_process.csv\",\n",
    "                 delimiter=\",\", dtype=str)\n",
    "\n",
    "dyads = [x for x in files_to_process]\n",
    "# Careful, the file_to_process is in the order (dyad_nb, eeg_filepath_child, eeg_filepath_adutl)\n",
    "dy = dyads[0]\n",
    "data_path = '../FINS-data/'"
   ]
  },
  {
   "attachments": {},
   "cell_type": "markdown",
   "metadata": {},
   "source": [
    "### The initial issue"
   ]
  },
  {
   "cell_type": "code",
   "execution_count": null,
   "metadata": {},
   "outputs": [],
   "source": [
    "eeg_child = align_utils.EpochsEEGLAB_to_mneEpochsFIF('{}{}_{}_FP/{}'.format(data_path, dy[0], 'child', dy[1])) \n",
    "eeg_adult = align_utils.EpochsEEGLAB_to_mneEpochsFIF('{}{}_{}_FP/{}'.format(data_path, dy[0], 'adult', dy[2]))"
   ]
  },
  {
   "cell_type": "markdown",
   "metadata": {},
   "source": [
    "Let's see how many epochs we have per EEG file:"
   ]
  },
  {
   "cell_type": "code",
   "execution_count": null,
   "metadata": {},
   "outputs": [],
   "source": [
    "print('EEG-child has {} epochs.'.format(eeg_child.get_data().shape[0]))\n",
    "print('EEG-adult has {} epochs.'.format(eeg_adult.get_data().shape[0]))"
   ]
  },
  {
   "attachments": {},
   "cell_type": "markdown",
   "metadata": {},
   "source": [
    "Well, there should be the same amount of epochs in each file. Moreover, when looking at the index of each epochs (see the x-axis of the plots bellow) we can see that they are all continuous, thus, not indicating which epochs were rejected:"
   ]
  },
  {
   "attachments": {},
   "cell_type": "markdown",
   "metadata": {},
   "source": [
    "## What's the plan now?"
   ]
  },
  {
   "attachments": {},
   "cell_type": "markdown",
   "metadata": {},
   "source": [
    "\n",
    "When loading an file in the EEGLAB format,  You have the following epoch indeces in your preprocessed file: \n",
    "\n",
    "`1, 2, 3, 4, 5, 6, 7`\n",
    "\n",
    "And you know that the following epochs were rejected:\n",
    "\n",
    "`3, 7, 8`\n",
    "\n",
    "but then get \n",
    "\n",
    "`1, 2, 3, 4`\n",
    "\n",
    "We'll now reconstruct the original epoch index as follows? (Within brackets):\n",
    "\n",
    "`1(1), 2(2), NaN, 4(3), 5(4), 6(5), NaN, NaN, 9(6), 10(7)`\n",
    "\n",
    "\n",
    "> **Careful, we have multiple round of rejection, so that method will have to be iterated over each round.**"
   ]
  },
  {
   "cell_type": "code",
   "execution_count": null,
   "metadata": {},
   "outputs": [],
   "source": [
    "df1 = eeg_child.to_data_frame()\n",
    "df2 = eeg_adult.to_data_frame()"
   ]
  },
  {
   "cell_type": "code",
   "execution_count": null,
   "metadata": {},
   "outputs": [],
   "source": [
    "Eeg1epochsIDs = df1.epoch.unique()\n",
    "Eeg2epochsIDs = df2.epoch.unique()"
   ]
  },
  {
   "attachments": {},
   "cell_type": "markdown",
   "metadata": {},
   "source": [
    "## Make an example"
   ]
  },
  {
   "attachments": {},
   "cell_type": "markdown",
   "metadata": {},
   "source": [
    "### Example 1 (2 rounds of preprocessing)"
   ]
  },
  {
   "cell_type": "code",
   "execution_count": null,
   "metadata": {},
   "outputs": [],
   "source": [
    "df = pd.DataFrame({'Letters': ['A', 'B', 'C', 'D', 'E', 'F', 'G', 'H'], 'indeces': [0, 1, 2, 3, 4, 5, 6, 7]})\n",
    "\n",
    "# pd.set_option('display.max_rows', len(state_dict))\n",
    "df"
   ]
  },
  {
   "cell_type": "code",
   "execution_count": null,
   "metadata": {},
   "outputs": [],
   "source": [
    "# Now we remove two rows in a first round:\n",
    "# Create a list of elements to remove\n",
    "rmed_1 = [1, 3]\n",
    "\n",
    "# Create a boolean mask indicating which rows to keep\n",
    "mask = df['indeces'].isin(rmed_1)\n",
    "\n",
    "# Remove the rows that match the elements in the list\n",
    "df.drop(index=df[mask].index, inplace=True)\n",
    "\n",
    "# Now we reset the index the same way saving this 'eeg' file would when being read for the next iteration's round \n",
    "df.indeces = [i for i in range(len(df))]\n",
    "df"
   ]
  },
  {
   "cell_type": "code",
   "execution_count": null,
   "metadata": {},
   "outputs": [],
   "source": [
    "# Now were remove three rows and directly reset the indeces\n",
    "# Create a list of elements to remove\n",
    "rmed_2 = [2, 5, 0]\n",
    "\n",
    "# Create a boolean mask indicating which rows to keep\n",
    "mask = df['indeces'].isin(rmed_2)\n",
    "\n",
    "# Remove the rows that match the elements in the list\n",
    "df.drop(index=df[mask].index, inplace=True)\n",
    "\n",
    "df.indeces = [i for i in range(len(df))]\n",
    "\n",
    "df"
   ]
  },
  {
   "attachments": {},
   "cell_type": "markdown",
   "metadata": {},
   "source": [
    "Alrigth, now we have two list containning the indeces that were removed **`at the time of their round of rejection`**. \n",
    "\n",
    "Keep in mind that the index #4 could be deleted in multiple round as #4 could be reassigned when the file is re-read."
   ]
  },
  {
   "cell_type": "code",
   "execution_count": null,
   "metadata": {},
   "outputs": [],
   "source": [
    "final_idx = df['indeces'].tolist()\n",
    "print('Index that were rejected at the\\n\\t1st round: {}\\n\\t2st round: {}'.format(rmed_1, rmed_2))\n",
    "print('The indeces as they are after the last rejection round {}'.format(final_idx))"
   ]
  },
  {
   "attachments": {},
   "cell_type": "markdown",
   "metadata": {},
   "source": [
    "Define the list of epochs that were rejected as the `list` of `list` containing the IDs of the epochs that were rejected at each round of preprocessing. **The first `list` should contain the epochs IDs rejected at first preprocessing round and the last element should correspond to the last.** "
   ]
  },
  {
   "cell_type": "code",
   "execution_count": null,
   "metadata": {},
   "outputs": [],
   "source": [
    "# Define the list of epochs that were rejected\n",
    "rmed_list=[rmed_1, rmed_2]\n",
    "rmed_list"
   ]
  },
  {
   "cell_type": "code",
   "execution_count": null,
   "metadata": {},
   "outputs": [],
   "source": [
    "updated_state_dict = align_utils.revert_to_original_idx(\n",
    "    last_state = final_idx,\n",
    "    removed_list  = rmed_list,\n",
    "    verbose    = True)"
   ]
  },
  {
   "attachments": {},
   "cell_type": "markdown",
   "metadata": {},
   "source": [
    "Let's verify that we reconstructed the correspondance between IDs and their original place correctly."
   ]
  },
  {
   "cell_type": "code",
   "execution_count": null,
   "metadata": {},
   "outputs": [],
   "source": [
    "letters=['A', 'B', 'C', 'D', 'E', 'F', 'G', 'H']\n",
    "\n",
    "tt = sorted(updated_state_dict.keys())\n",
    "\n",
    "print('\\tOriginal ID\\tFinal state\\tLetter',)\n",
    "for i in tt:\n",
    "    print('\\t',i,'\\t\\t',updated_state_dict[i],'\\t\\t', letters[i])  "
   ]
  },
  {
   "attachments": {},
   "cell_type": "markdown",
   "metadata": {},
   "source": [
    "Yay! We've rebuilt the connection between the indeces that were given post preprocessing (above, the column 'Original ID')and the ones we got (the 'Final state' column).\n",
    "\n",
    "We now have a dictionnary that has `keys` representing each of the original epoch ID and `values` representing the state of that epoch at the end of preprocessing.\n",
    "\n",
    "The **state** can be either\n",
    "- `NaN` which indicated that this epoch was removed during preprocessing **or,**\n",
    "- the id that was initially associated to the remaining epochs."
   ]
  },
  {
   "attachments": {},
   "cell_type": "markdown",
   "metadata": {},
   "source": [
    "### Example 2 (3 rounds of preprocessing)"
   ]
  },
  {
   "cell_type": "code",
   "execution_count": null,
   "metadata": {},
   "outputs": [],
   "source": [
    "df2 = pd.DataFrame({'Letters': ['A', 'B', 'C', 'D', 'E', 'F', 'G', 'H'], 'indeces': [0, 1, 2, 3, 4, 5, 6, 7]})\n",
    "print('df2: original\\n', df2)\n",
    "\n",
    "rmed_1_2 = [1, 4]\n",
    "df2.drop(index=df2[df2['indeces'].isin(rmed_1_2)].index, inplace=True)\n",
    "df2.indeces = [i for i in range(len(df2))]\n",
    "print('\\ndf2: 1st round of rejection\\n', df2)\n",
    "\n",
    "rmed_2_2 = [0]\n",
    "df2.drop(index=df2[df2['indeces'].isin(rmed_2_2)].index, inplace=True)\n",
    "df2.indeces = [i for i in range(len(df2))]\n",
    "print('\\ndf2: 2nd round of rejection\\n', df2)\n",
    "\n",
    "rmed_3_2 = [3, 4]\n",
    "df2.drop(index=df2[df2['indeces'].isin(rmed_3_2)].index, inplace=True)\n",
    "df2.indeces = [i for i in range(len(df2))]\n",
    "print('\\ndf2: 3rd round of rejection\\n', df2)\n"
   ]
  },
  {
   "cell_type": "code",
   "execution_count": null,
   "metadata": {},
   "outputs": [],
   "source": [
    "updated_state_dict_2 = align_utils.revert_to_original_idx(\n",
    "    last_state = df2['indeces'].tolist(),\n",
    "    removed_list  = [rmed_1_2, rmed_2_2, rmed_3_2],\n",
    "    verbose    = False)"
   ]
  },
  {
   "cell_type": "code",
   "execution_count": null,
   "metadata": {},
   "outputs": [],
   "source": [
    "print('\\tOriginal ID\\tFinal state\\tLetter',)\n",
    "for i in sorted(updated_state_dict_2.keys()):\n",
    "    print('\\t',i,'\\t\\t',updated_state_dict_2[i],'\\t\\t', letters[i])  "
   ]
  },
  {
   "attachments": {},
   "cell_type": "markdown",
   "metadata": {},
   "source": [
    "### Finding concurrent epochs from "
   ]
  },
  {
   "attachments": {},
   "cell_type": "markdown",
   "metadata": {},
   "source": [
    "Alright, now we have 2 dictionnary containing as keys the original epochs index, and as values, the `last state`. I.e., either `NaN` if the epoch was removed **or** the latest index given to this epoch post-preprocessing. \n",
    "\n",
    "We're now going to see which paris of concurrent epochs are still available in each set of data."
   ]
  },
  {
   "cell_type": "code",
   "execution_count": null,
   "metadata": {},
   "outputs": [],
   "source": [
    "print(updated_state_dict)\n",
    "print(updated_state_dict_2)"
   ]
  },
  {
   "attachments": {},
   "cell_type": "markdown",
   "metadata": {},
   "source": [
    "First, we convert these dictionnary to pd.df:"
   ]
  },
  {
   "cell_type": "code",
   "execution_count": null,
   "metadata": {},
   "outputs": [],
   "source": [
    "df1 = pd.DataFrame.from_dict(\n",
    "    updated_state_dict, \n",
    "    orient='index', \n",
    "    columns=['LastState-1']).sort_index()\n",
    "\n",
    "df2 = pd.DataFrame.from_dict(\n",
    "    updated_state_dict_2, \n",
    "    orient='index', \n",
    "    columns=['LastState-2']).sort_index()\n",
    "\n",
    "print(df1, '\\n\\n', df2)"
   ]
  },
  {
   "attachments": {},
   "cell_type": "markdown",
   "metadata": {},
   "source": [
    "then, we merge these `LastState` columns in the same `comparaisonDf`"
   ]
  },
  {
   "cell_type": "code",
   "execution_count": null,
   "metadata": {},
   "outputs": [],
   "source": [
    "comparaisonDf = df1.join(df2[\"LastState-2\"])\n",
    "comparaisonDf = comparaisonDf.replace('NaN', np.nan)\n",
    "comparaisonDf"
   ]
  },
  {
   "attachments": {},
   "cell_type": "markdown",
   "metadata": {},
   "source": [
    "Now drop the rows corresponding to the epochs that are not present in both eegs"
   ]
  },
  {
   "cell_type": "code",
   "execution_count": null,
   "metadata": {},
   "outputs": [],
   "source": [
    "comparaisonDf = comparaisonDf.dropna().astype(int)\n",
    "comparaisonDf"
   ]
  },
  {
   "attachments": {},
   "cell_type": "markdown",
   "metadata": {},
   "source": [
    "This df above now indicates which index have to be sampled to reconstruct the concurrence between the first EEG (`LastState-1`) and the second EEG (`LastState-2`)"
   ]
  },
  {
   "attachments": {},
   "cell_type": "markdown",
   "metadata": {},
   "source": [
    "# Now doing that with the `mne.Epoch` data"
   ]
  },
  {
   "attachments": {},
   "cell_type": "markdown",
   "metadata": {},
   "source": [
    "## Exploring dyads (n=10)"
   ]
  },
  {
   "attachments": {},
   "cell_type": "markdown",
   "metadata": {},
   "source": [
    "### Dyad 213"
   ]
  },
  {
   "cell_type": "code",
   "execution_count": null,
   "metadata": {},
   "outputs": [],
   "source": [
    "dy = dyads[0] # Choose a dyad\n",
    "print('Dyad: {}\\nChild file: {}\\nAdult file: {}\\n'.format(dy[0], dy[1], dy[2]))\n",
    "\n",
    "eeg_child = align_utils.EpochsEEGLAB_to_mneEpochsFIF('{}{}_{}_FP/{}'.format(data_path, dy[0], 'child', dy[1]), ) \n",
    "eeg_adult = align_utils.EpochsEEGLAB_to_mneEpochsFIF('{}{}_{}_FP/{}'.format(data_path, dy[0], 'adult', dy[2]), )"
   ]
  },
  {
   "cell_type": "code",
   "execution_count": 19,
   "metadata": {},
   "outputs": [
    {
     "name": "stdout",
     "output_type": "stream",
     "text": [
      "EEG-child has 325 epochs.\n",
      "Total amount of rejected epo (child):\t73\n",
      "Total amount of epo (child):\t398\n",
      "\n",
      "\n",
      "EEG-adult has 316 epochs.\n",
      "Total amount of rejected epo (adult):\t81\n",
      "Total amount of epo (adult):\t397\n"
     ]
    },
    {
     "ename": "AssertionError",
     "evalue": "≠ total of epo: child=398 & adult=397",
     "output_type": "error",
     "traceback": [
      "\u001b[0;31m---------------------------------------------------------------------------\u001b[0m",
      "\u001b[0;31mAssertionError\u001b[0m                            Traceback (most recent call last)",
      "\u001b[1;32m/Users/zoubou/Documents/Work/NYU/Brito-Lab/FINS-Codes/realigne-eeg-streams.ipynb Cell 48\u001b[0m in \u001b[0;36m<cell line: 27>\u001b[0;34m()\u001b[0m\n\u001b[1;32m     <a href='vscode-notebook-cell:/Users/zoubou/Documents/Work/NYU/Brito-Lab/FINS-Codes/realigne-eeg-streams.ipynb#Y205sZmlsZQ%3D%3D?line=22'>23</a>\u001b[0m total_nb_epo_adult \u001b[39m=\u001b[39m total_rej_adult\u001b[39m+\u001b[39mlast_epo_adult_nb\n\u001b[1;32m     <a href='vscode-notebook-cell:/Users/zoubou/Documents/Work/NYU/Brito-Lab/FINS-Codes/realigne-eeg-streams.ipynb#Y205sZmlsZQ%3D%3D?line=23'>24</a>\u001b[0m \u001b[39mprint\u001b[39m(\u001b[39m'\u001b[39m\u001b[39mTotal amount of epo (adult):\u001b[39m\u001b[39m\\t\u001b[39;00m\u001b[39m{}\u001b[39;00m\u001b[39m'\u001b[39m\u001b[39m.\u001b[39mformat(total_nb_epo_adult))\n\u001b[0;32m---> <a href='vscode-notebook-cell:/Users/zoubou/Documents/Work/NYU/Brito-Lab/FINS-Codes/realigne-eeg-streams.ipynb#Y205sZmlsZQ%3D%3D?line=26'>27</a>\u001b[0m \u001b[39massert\u001b[39;00m total_nb_epo_adult \u001b[39m==\u001b[39m total_nb_epo_child, \u001b[39m'\u001b[39m\u001b[39m≠ total of epo: child=\u001b[39m\u001b[39m{}\u001b[39;00m\u001b[39m & adult=\u001b[39m\u001b[39m{}\u001b[39;00m\u001b[39m'\u001b[39m\u001b[39m.\u001b[39mformat(total_nb_epo_child, total_nb_epo_adult)\n",
      "\u001b[0;31mAssertionError\u001b[0m: ≠ total of epo: child=398 & adult=397"
     ]
    }
   ],
   "source": [
    "last_epo_child_nb = eeg_child.get_data().shape[0]\n",
    "print('EEG-child has {} epochs.'.format(last_epo_child_nb))\n",
    "round1_child = align_utils.make_list_from_text('17 25 26 31 36 37 41 42 43 50 51 83 84 116 117 152 153 156 157 158 163 164 165 171 231 232 244 245 247 248 253 254 255 261 268 269:272 306 307 310 311 314 316 318 319 320 335 338 339 371 379 380')\n",
    "round2_child = align_utils.make_list_from_text('135 137 147 148:150 159 194 211 223 226 227 288 310 314 319 325 341 342')\n",
    "child_rej = [round1_child, round2_child]\n",
    "total_rej_child = len(round1_child) + len(round2_child)\n",
    "print('Total amount of rejected epo (child):\\t{}'.format(total_rej_child))\n",
    "\n",
    "total_nb_epo_child= total_rej_child+last_epo_child_nb\n",
    "print('Total amount of epo (child):\\t{}'.format(total_nb_epo_child))\n",
    "\n",
    "\n",
    "print('\\n')\n",
    "\n",
    "last_epo_adult_nb = eeg_adult.get_data().shape[0]\n",
    "print('EEG-adult has {} epochs.'.format(last_epo_adult_nb))\n",
    "round1_adult = align_utils.make_list_from_text('9 10 58 60 61:63 76 78 79 80 83 84 85 90 103 104 105 112 114 115 132 133:135 153 155 156 173 174 182 226 227 248 249 250 253 257 259 263 342 348 356 357 363 364:367 370 383 391 393')\n",
    "round2_adult = align_utils.make_list_from_text('2 9 10 11 33 46 50 60 68 76 101 103 128 139 142 145 187 192 222 223 319 321 322 323 325 331 335 343')\n",
    "adult_rej = [round1_adult, round2_adult]\n",
    "total_rej_adult = len(round1_adult) + len(round2_adult)\n",
    "print('Total amount of rejected epo (adult):\\t{}'.format(total_rej_adult))\n",
    "\n",
    "total_nb_epo_adult = total_rej_adult+last_epo_adult_nb\n",
    "print('Total amount of epo (adult):\\t{}'.format(total_nb_epo_adult))\n",
    "\n",
    "\n",
    "assert total_nb_epo_adult == total_nb_epo_child, '≠ total of epo: child={} & adult={}'.format(total_nb_epo_child, total_nb_epo_adult)\n"
   ]
  },
  {
   "attachments": {},
   "cell_type": "markdown",
   "metadata": {},
   "source": [
    "### Dyad 205"
   ]
  },
  {
   "attachments": {},
   "cell_type": "markdown",
   "metadata": {},
   "source": [
    "Dyads don't have the same amount of epo in the first place: will have to cut after 175."
   ]
  },
  {
   "attachments": {},
   "cell_type": "markdown",
   "metadata": {},
   "source": [
    "### Dyad 217"
   ]
  },
  {
   "cell_type": "code",
   "execution_count": 23,
   "metadata": {},
   "outputs": [
    {
     "name": "stdout",
     "output_type": "stream",
     "text": [
      "Dyad: 217\n",
      "Child file: FINS_217_Child_FreePlay_xchan_rej2.set\n",
      "Adult file: FINS_217_Adult_FreePlay_xchan_rej2.set\n",
      "\n",
      "Reading /var/folders/vv/stc9rswn5c95vxdzpx7z6qqr0000gn/T/tmpv8rlxcuhtmp.fif ...\n",
      "    Found the data of interest:\n",
      "        t =       0.00 ...     998.00 ms\n",
      "        0 CTF compensation matrices available\n",
      "0 bad epochs dropped\n",
      "Not setting metadata\n",
      "209 matching events found\n",
      "No baseline correction applied\n",
      "0 projection items activated\n"
     ]
    },
    {
     "name": "stderr",
     "output_type": "stream",
     "text": [
      "/Users/zoubou/Documents/Work/NYU/Brito-Lab/FINS-Codes/utils/align_utils.py:43: RuntimeWarning: At least one epoch has multiple events. Only the latency of the first event will be retained.\n",
      "  tmp = mne.io.read_epochs_eeglab(path, verbose=False)\n",
      "/Users/zoubou/Documents/Work/NYU/Brito-Lab/FINS-Codes/utils/align_utils.py:47: RuntimeWarning: This filename (/var/folders/vv/stc9rswn5c95vxdzpx7z6qqr0000gn/T/tmpv8rlxcuhtmp.fif) does not conform to MNE naming conventions. All epochs files should end with -epo.fif, -epo.fif.gz, _epo.fif or _epo.fif.gz\n",
      "  tmp.save(tmpdir+\"tmp.fif\", overwrite=True, verbose=None)\n",
      "/Users/zoubou/Documents/Work/NYU/Brito-Lab/FINS-Codes/utils/align_utils.py:50: RuntimeWarning: This filename (/var/folders/vv/stc9rswn5c95vxdzpx7z6qqr0000gn/T/tmpv8rlxcuhtmp.fif) does not conform to MNE naming conventions. All epochs files should end with -epo.fif, -epo.fif.gz, _epo.fif or _epo.fif.gz\n",
      "  return mne.read_epochs(tmpdir+\"tmp.fif\")\n"
     ]
    },
    {
     "name": "stdout",
     "output_type": "stream",
     "text": [
      "Reading /var/folders/vv/stc9rswn5c95vxdzpx7z6qqr0000gn/T/tmp31cjpwk4tmp.fif ...\n",
      "    Found the data of interest:\n",
      "        t =       0.00 ...     998.00 ms\n",
      "        0 CTF compensation matrices available\n",
      "0 bad epochs dropped\n",
      "Not setting metadata\n",
      "287 matching events found\n",
      "No baseline correction applied\n",
      "0 projection items activated\n"
     ]
    },
    {
     "name": "stderr",
     "output_type": "stream",
     "text": [
      "/Users/zoubou/Documents/Work/NYU/Brito-Lab/FINS-Codes/utils/align_utils.py:43: RuntimeWarning: At least one epoch has multiple events. Only the latency of the first event will be retained.\n",
      "  tmp = mne.io.read_epochs_eeglab(path, verbose=False)\n",
      "/Users/zoubou/Documents/Work/NYU/Brito-Lab/FINS-Codes/utils/align_utils.py:47: RuntimeWarning: This filename (/var/folders/vv/stc9rswn5c95vxdzpx7z6qqr0000gn/T/tmp31cjpwk4tmp.fif) does not conform to MNE naming conventions. All epochs files should end with -epo.fif, -epo.fif.gz, _epo.fif or _epo.fif.gz\n",
      "  tmp.save(tmpdir+\"tmp.fif\", overwrite=True, verbose=None)\n",
      "/Users/zoubou/Documents/Work/NYU/Brito-Lab/FINS-Codes/utils/align_utils.py:50: RuntimeWarning: This filename (/var/folders/vv/stc9rswn5c95vxdzpx7z6qqr0000gn/T/tmp31cjpwk4tmp.fif) does not conform to MNE naming conventions. All epochs files should end with -epo.fif, -epo.fif.gz, _epo.fif or _epo.fif.gz\n",
      "  return mne.read_epochs(tmpdir+\"tmp.fif\")\n"
     ]
    }
   ],
   "source": [
    "dy = dyads[2] # Choose a dyad\n",
    "print('Dyad: {}\\nChild file: {}\\nAdult file: {}\\n'.format(dy[0], dy[1], dy[2]))\n",
    "\n",
    "eeg_child = align_utils.EpochsEEGLAB_to_mneEpochsFIF('{}{}_{}_FP/{}'.format(data_path, dy[0], 'child', dy[1]), ) \n",
    "eeg_adult = align_utils.EpochsEEGLAB_to_mneEpochsFIF('{}{}_{}_FP/{}'.format(data_path, dy[0], 'adult', dy[2]), )"
   ]
  },
  {
   "cell_type": "code",
   "execution_count": 25,
   "metadata": {},
   "outputs": [
    {
     "name": "stdout",
     "output_type": "stream",
     "text": [
      "EEG-child has 209 epochs.\n",
      "Total amount of rejected epo (child):\t160\n",
      "Total amount of epo (child):\t369\n",
      "\n",
      "\n",
      "EEG-adult has 287 epochs.\n",
      "Total amount of rejected epo (adult):\t86\n",
      "Total amount of epo (adult):\t373\n"
     ]
    },
    {
     "ename": "AssertionError",
     "evalue": "≠ total of epo: child=369 & adult=373",
     "output_type": "error",
     "traceback": [
      "\u001b[0;31m---------------------------------------------------------------------------\u001b[0m",
      "\u001b[0;31mAssertionError\u001b[0m                            Traceback (most recent call last)",
      "\u001b[1;32m/Users/zoubou/Documents/Work/NYU/Brito-Lab/FINS-Codes/realigne-eeg-streams.ipynb Cell 53\u001b[0m in \u001b[0;36m<cell line: 29>\u001b[0;34m()\u001b[0m\n\u001b[1;32m     <a href='vscode-notebook-cell:/Users/zoubou/Documents/Work/NYU/Brito-Lab/FINS-Codes/realigne-eeg-streams.ipynb#Y212sZmlsZQ%3D%3D?line=24'>25</a>\u001b[0m total_nb_epo_adult \u001b[39m=\u001b[39m total_rej_adult\u001b[39m+\u001b[39mlast_epo_adult_nb\n\u001b[1;32m     <a href='vscode-notebook-cell:/Users/zoubou/Documents/Work/NYU/Brito-Lab/FINS-Codes/realigne-eeg-streams.ipynb#Y212sZmlsZQ%3D%3D?line=25'>26</a>\u001b[0m \u001b[39mprint\u001b[39m(\u001b[39m'\u001b[39m\u001b[39mTotal amount of epo (adult):\u001b[39m\u001b[39m\\t\u001b[39;00m\u001b[39m{}\u001b[39;00m\u001b[39m'\u001b[39m\u001b[39m.\u001b[39mformat(total_nb_epo_adult))\n\u001b[0;32m---> <a href='vscode-notebook-cell:/Users/zoubou/Documents/Work/NYU/Brito-Lab/FINS-Codes/realigne-eeg-streams.ipynb#Y212sZmlsZQ%3D%3D?line=28'>29</a>\u001b[0m \u001b[39massert\u001b[39;00m total_nb_epo_adult \u001b[39m==\u001b[39m total_nb_epo_child, \u001b[39m'\u001b[39m\u001b[39m≠ total of epo: child=\u001b[39m\u001b[39m{}\u001b[39;00m\u001b[39m & adult=\u001b[39m\u001b[39m{}\u001b[39;00m\u001b[39m'\u001b[39m\u001b[39m.\u001b[39mformat(total_nb_epo_child, total_nb_epo_adult)\n",
      "\u001b[0;31mAssertionError\u001b[0m: ≠ total of epo: child=369 & adult=373"
     ]
    }
   ],
   "source": [
    "last_epo_child_nb = eeg_child.get_data().shape[0]\n",
    "print('EEG-child has {} epochs.'.format(last_epo_child_nb))\n",
    "round1_child = align_utils.make_list_from_text('1:9 11 12:17 23 25 28 30 46 47 60 61 75 79 80:83 86 89 91 95 96 99 100:102 109 111 114 134 135 136 138 146 160 161 167 171 172 173 178 187 188 189 194 200 201 215 216 217 219 224 226 237 238 241 242 246 247 252 253 254 264 270 271:274 279 280 282 283:292 294 295 299 300:304 308 309 311 312 316 317:320 324 325 326 332 336 337 339 340 342 343 344 354')\n",
    "round2_child = align_utils.make_list_from_text('1 3 11 13:17 20 24 25 34 40 43 59 60 73 87 97 98 113 118 120 124 157 160 197 210 211 212 216 220 227 240')\n",
    "round3_child = align_utils.make_list_from_text('64 211 286')\n",
    "child_rej = [round1_child, round2_child, round3_child]\n",
    "total_rej_child = len(round1_child) + len(round2_child) + len(round3_child)\n",
    "print('Total amount of rejected epo (child):\\t{}'.format(total_rej_child))\n",
    "\n",
    "total_nb_epo_child= total_rej_child+last_epo_child_nb\n",
    "print('Total amount of epo (child):\\t{}'.format(total_nb_epo_child))\n",
    "\n",
    "\n",
    "print('\\n')\n",
    "\n",
    "last_epo_adult_nb = eeg_adult.get_data().shape[0]\n",
    "print('EEG-adult has {} epochs.'.format(last_epo_adult_nb))\n",
    "round1_adult = align_utils.make_list_from_text('1:3 18 19 34 42 45 46:48 58 79 89 94 96 97 98 103 104 106 119 173 174 234 235 237 242 243 245 246 247 265 269 270 271 276 296 297 316 317:323 327 328 332 343 344 350 354 357 364')\n",
    "round2_adult = align_utils.make_list_from_text('1 5 13 49 57 64 82 84 86 87 91 96 97 225 227 232 236 263 296 300:304')\n",
    "round3_adult = align_utils.make_list_from_text('16 50 102 163 191 193')\n",
    "adult_rej = [round1_adult, round2_adult]\n",
    "total_rej_adult = len(round1_adult) + len(round2_adult) + len(round3_adult)\n",
    "print('Total amount of rejected epo (adult):\\t{}'.format(total_rej_adult))\n",
    "\n",
    "total_nb_epo_adult = total_rej_adult+last_epo_adult_nb\n",
    "print('Total amount of epo (adult):\\t{}'.format(total_nb_epo_adult))\n",
    "\n",
    "\n",
    "assert total_nb_epo_adult == total_nb_epo_child, '≠ total of epo: child={} & adult={}'.format(total_nb_epo_child, total_nb_epo_adult)\n"
   ]
  },
  {
   "attachments": {},
   "cell_type": "markdown",
   "metadata": {},
   "source": [
    "### Dyad 224"
   ]
  },
  {
   "cell_type": "code",
   "execution_count": null,
   "metadata": {},
   "outputs": [],
   "source": [
    "dy = dyads[3] # Choose a dyad\n",
    "print('Dyad: {}\\nChild file: {}\\nAdult file: {}\\n'.format(dy[0], dy[1], dy[2]))\n",
    "\n",
    "eeg_child = align_utils.EpochsEEGLAB_to_mneEpochsFIF('{}{}_{}_FP/{}'.format(data_path, dy[0], 'child', dy[1]), ) \n",
    "eeg_adult = align_utils.EpochsEEGLAB_to_mneEpochsFIF('{}{}_{}_FP/{}'.format(data_path, dy[0], 'adult', dy[2]), )"
   ]
  },
  {
   "cell_type": "code",
   "execution_count": 29,
   "metadata": {},
   "outputs": [
    {
     "name": "stdout",
     "output_type": "stream",
     "text": [
      "EEG-child has 217 epochs.\n",
      "Total amount of rejected epo (child):\t106\n",
      "Total amount of epo (child):\t323\n",
      "\n",
      "\n",
      "EEG-adult has 219 epochs.\n",
      "Total amount of rejected epo (adult):\t108\n",
      "Total amount of epo (adult):\t327\n"
     ]
    },
    {
     "ename": "AssertionError",
     "evalue": "≠ total of epo: child=323 & adult=327",
     "output_type": "error",
     "traceback": [
      "\u001b[0;31m---------------------------------------------------------------------------\u001b[0m",
      "\u001b[0;31mAssertionError\u001b[0m                            Traceback (most recent call last)",
      "\u001b[1;32m/Users/zoubou/Documents/Work/NYU/Brito-Lab/FINS-Codes/realigne-eeg-streams.ipynb Cell 56\u001b[0m in \u001b[0;36m<cell line: 27>\u001b[0;34m()\u001b[0m\n\u001b[1;32m     <a href='vscode-notebook-cell:/Users/zoubou/Documents/Work/NYU/Brito-Lab/FINS-Codes/realigne-eeg-streams.ipynb#Y213sZmlsZQ%3D%3D?line=22'>23</a>\u001b[0m total_nb_epo_adult \u001b[39m=\u001b[39m total_rej_adult\u001b[39m+\u001b[39mlast_epo_adult_nb\n\u001b[1;32m     <a href='vscode-notebook-cell:/Users/zoubou/Documents/Work/NYU/Brito-Lab/FINS-Codes/realigne-eeg-streams.ipynb#Y213sZmlsZQ%3D%3D?line=23'>24</a>\u001b[0m \u001b[39mprint\u001b[39m(\u001b[39m'\u001b[39m\u001b[39mTotal amount of epo (adult):\u001b[39m\u001b[39m\\t\u001b[39;00m\u001b[39m{}\u001b[39;00m\u001b[39m'\u001b[39m\u001b[39m.\u001b[39mformat(total_nb_epo_adult))\n\u001b[0;32m---> <a href='vscode-notebook-cell:/Users/zoubou/Documents/Work/NYU/Brito-Lab/FINS-Codes/realigne-eeg-streams.ipynb#Y213sZmlsZQ%3D%3D?line=26'>27</a>\u001b[0m \u001b[39massert\u001b[39;00m total_nb_epo_adult \u001b[39m==\u001b[39m total_nb_epo_child, \u001b[39m'\u001b[39m\u001b[39m≠ total of epo: child=\u001b[39m\u001b[39m{}\u001b[39;00m\u001b[39m & adult=\u001b[39m\u001b[39m{}\u001b[39;00m\u001b[39m'\u001b[39m\u001b[39m.\u001b[39mformat(total_nb_epo_child, total_nb_epo_adult)\n",
      "\u001b[0;31mAssertionError\u001b[0m: ≠ total of epo: child=323 & adult=327"
     ]
    }
   ],
   "source": [
    "last_epo_child_nb = eeg_child.get_data().shape[0]\n",
    "print('EEG-child has {} epochs.'.format(last_epo_child_nb))\n",
    "round1_child = align_utils.make_list_from_text('5:7 10 17 18:20 23 25 29 30:40 43 48 49 55 56 57 60 61 66 68 69:72 76 77:79 81 86 90 91 95 107 111 139 140 198 234 236 237 262 263:265 267 269 270:276 279 280 304 311 312 319 320 324 325:327')\n",
    "round2_child = align_utils.make_list_from_text('7:9 15 19 21 32 35 43 44 87 88 116 130 131:133 187 188 200 202 203 204 212 213 218 219 220 248')\n",
    "child_rej = [round1_child, round2_child]\n",
    "total_rej_child = len(round1_child) + len(round2_child)\n",
    "print('Total amount of rejected epo (child):\\t{}'.format(total_rej_child))\n",
    "\n",
    "total_nb_epo_child= total_rej_child+last_epo_child_nb\n",
    "print('Total amount of epo (child):\\t{}'.format(total_nb_epo_child))\n",
    "\n",
    "\n",
    "print('\\n')\n",
    "\n",
    "last_epo_adult_nb = eeg_adult.get_data().shape[0]\n",
    "print('EEG-adult has {} epochs.'.format(last_epo_adult_nb))\n",
    "round1_adult = align_utils.make_list_from_text('1 3 4:7 9 10:20 24 25 28 29 34 35 38 39 41 42:44 46 47:50 55 56:61 66 70 72 73 75 79 80:83 89 95 97 98 110 120 164 165:167 169 170 183 184 185 209 210 211 227 231 232 233 236 237 256 259 260 269 270:271')\n",
    "round2_adult = align_utils.make_list_from_text('6 28 31 67 77 78 83 84 94 96 130 136 189 224 225 228 229:233 236 241 242 244 245')\n",
    "adult_rej = [round1_adult, round2_adult]\n",
    "total_rej_adult = len(round1_adult) + len(round2_adult)\n",
    "print('Total amount of rejected epo (adult):\\t{}'.format(total_rej_adult))\n",
    "\n",
    "total_nb_epo_adult = total_rej_adult+last_epo_adult_nb\n",
    "print('Total amount of epo (adult):\\t{}'.format(total_nb_epo_adult))\n",
    "\n",
    "\n",
    "assert total_nb_epo_adult == total_nb_epo_child, '≠ total of epo: child={} & adult={}'.format(total_nb_epo_child, total_nb_epo_adult)\n"
   ]
  },
  {
   "attachments": {},
   "cell_type": "markdown",
   "metadata": {},
   "source": [
    "### Dyad 220"
   ]
  },
  {
   "cell_type": "code",
   "execution_count": null,
   "metadata": {},
   "outputs": [],
   "source": [
    "dy = dyads[4] # Choose a dyad\n",
    "print('Dyad: {}\\nChild file: {}\\nAdult file: {}\\n'.format(dy[0], dy[1], dy[2]))\n",
    "\n",
    "eeg_child = align_utils.EpochsEEGLAB_to_mneEpochsFIF('{}{}_{}_FP/{}'.format(data_path, dy[0], 'child', dy[1]), ) \n",
    "eeg_adult = align_utils.EpochsEEGLAB_to_mneEpochsFIF('{}{}_{}_FP/{}'.format(data_path, dy[0], 'adult', dy[2]), )"
   ]
  },
  {
   "cell_type": "code",
   "execution_count": 31,
   "metadata": {},
   "outputs": [
    {
     "name": "stdout",
     "output_type": "stream",
     "text": [
      "EEG-child has 159 epochs.\n",
      "Total amount of rejected epo (child):\t76\n",
      "Total amount of epo (child):\t235\n",
      "\n",
      "\n",
      "EEG-adult has 206 epochs.\n",
      "Total amount of rejected epo (adult):\t28\n",
      "Total amount of epo (adult):\t234\n"
     ]
    },
    {
     "ename": "AssertionError",
     "evalue": "≠ total of epo: child=235 & adult=234",
     "output_type": "error",
     "traceback": [
      "\u001b[0;31m---------------------------------------------------------------------------\u001b[0m",
      "\u001b[0;31mAssertionError\u001b[0m                            Traceback (most recent call last)",
      "\u001b[1;32m/Users/zoubou/Documents/Work/NYU/Brito-Lab/FINS-Codes/realigne-eeg-streams.ipynb Cell 59\u001b[0m in \u001b[0;36m<cell line: 29>\u001b[0;34m()\u001b[0m\n\u001b[1;32m     <a href='vscode-notebook-cell:/Users/zoubou/Documents/Work/NYU/Brito-Lab/FINS-Codes/realigne-eeg-streams.ipynb#Y216sZmlsZQ%3D%3D?line=24'>25</a>\u001b[0m total_nb_epo_adult \u001b[39m=\u001b[39m total_rej_adult\u001b[39m+\u001b[39mlast_epo_adult_nb\n\u001b[1;32m     <a href='vscode-notebook-cell:/Users/zoubou/Documents/Work/NYU/Brito-Lab/FINS-Codes/realigne-eeg-streams.ipynb#Y216sZmlsZQ%3D%3D?line=25'>26</a>\u001b[0m \u001b[39mprint\u001b[39m(\u001b[39m'\u001b[39m\u001b[39mTotal amount of epo (adult):\u001b[39m\u001b[39m\\t\u001b[39;00m\u001b[39m{}\u001b[39;00m\u001b[39m'\u001b[39m\u001b[39m.\u001b[39mformat(total_nb_epo_adult))\n\u001b[0;32m---> <a href='vscode-notebook-cell:/Users/zoubou/Documents/Work/NYU/Brito-Lab/FINS-Codes/realigne-eeg-streams.ipynb#Y216sZmlsZQ%3D%3D?line=28'>29</a>\u001b[0m \u001b[39massert\u001b[39;00m total_nb_epo_adult \u001b[39m==\u001b[39m total_nb_epo_child, \u001b[39m'\u001b[39m\u001b[39m≠ total of epo: child=\u001b[39m\u001b[39m{}\u001b[39;00m\u001b[39m & adult=\u001b[39m\u001b[39m{}\u001b[39;00m\u001b[39m'\u001b[39m\u001b[39m.\u001b[39mformat(total_nb_epo_child, total_nb_epo_adult)\n",
      "\u001b[0;31mAssertionError\u001b[0m: ≠ total of epo: child=235 & adult=234"
     ]
    }
   ],
   "source": [
    "last_epo_child_nb = eeg_child.get_data().shape[0]\n",
    "print('EEG-child has {} epochs.'.format(last_epo_child_nb))\n",
    "round1_child = align_utils.make_list_from_text('1:9 12 13 14 16 18 37 38 42 51 52 53 89 90 93 105 108 109 114 115 119 121 134 135 144 145 164 165 185 186 187 192 193 200 203 204 208 209 210 215 221')\n",
    "round2_child = align_utils.make_list_from_text('102:105 107 109 110 115 130 131 139 149 160 169 170 174 175 178 179 185 186')\n",
    "round3_child = align_utils.make_list_from_text('115 120 121 126 127 165')\n",
    "child_rej = [round1_child, round2_child]\n",
    "total_rej_child = len(round1_child) + len(round2_child)+ len(round3_child)\n",
    "print('Total amount of rejected epo (child):\\t{}'.format(total_rej_child))\n",
    "\n",
    "total_nb_epo_child= total_rej_child+last_epo_child_nb\n",
    "print('Total amount of epo (child):\\t{}'.format(total_nb_epo_child))\n",
    "\n",
    "\n",
    "print('\\n')\n",
    "\n",
    "last_epo_adult_nb = eeg_adult.get_data().shape[0]\n",
    "print('EEG-adult has {} epochs.'.format(last_epo_adult_nb))\n",
    "round1_adult = align_utils.make_list_from_text('11 12 14 25 28 60 61 62 65 68 69:72 77 80 81 86 131 186 235')\n",
    "round2_adult = align_utils.make_list_from_text('12 165 166:168')\n",
    "round3_adult = align_utils.make_list_from_text('4 7')\n",
    "adult_rej = [round1_adult, round2_adult]\n",
    "total_rej_adult = len(round1_adult) + len(round2_adult) + len(round3_adult)\n",
    "print('Total amount of rejected epo (adult):\\t{}'.format(total_rej_adult))\n",
    "\n",
    "total_nb_epo_adult = total_rej_adult+last_epo_adult_nb\n",
    "print('Total amount of epo (adult):\\t{}'.format(total_nb_epo_adult))\n",
    "\n",
    "\n",
    "assert total_nb_epo_adult == total_nb_epo_child, '≠ total of epo: child={} & adult={}'.format(total_nb_epo_child, total_nb_epo_adult)\n"
   ]
  },
  {
   "attachments": {},
   "cell_type": "markdown",
   "metadata": {},
   "source": [
    "### Dyad 206"
   ]
  },
  {
   "cell_type": "code",
   "execution_count": null,
   "metadata": {},
   "outputs": [],
   "source": [
    "dy = dyads[5] # Choose a dyad\n",
    "print('Dyad: {}\\nChild file: {}\\nAdult file: {}\\n'.format(dy[0], dy[1], dy[2]))\n",
    "\n",
    "eeg_child = align_utils.EpochsEEGLAB_to_mneEpochsFIF('{}{}_{}_FP/{}'.format(data_path, dy[0], 'child', dy[1]), ) \n",
    "eeg_adult = align_utils.EpochsEEGLAB_to_mneEpochsFIF('{}{}_{}_FP/{}'.format(data_path, dy[0], 'adult', dy[2]), )"
   ]
  },
  {
   "cell_type": "code",
   "execution_count": 33,
   "metadata": {},
   "outputs": [
    {
     "name": "stdout",
     "output_type": "stream",
     "text": [
      "EEG-child has 37 epochs.\n",
      "Total amount of rejected epo (child):\t60\n",
      "Total amount of epo (child):\t97\n",
      "\n",
      "\n",
      "EEG-adult has 31 epochs.\n",
      "Total amount of rejected epo (adult):\t66\n",
      "Total amount of epo (adult):\t97\n"
     ]
    }
   ],
   "source": [
    "last_epo_child_nb = eeg_child.get_data().shape[0]\n",
    "print('EEG-child has {} epochs.'.format(last_epo_child_nb))\n",
    "round1_child = align_utils.make_list_from_text('3:7 9 10 13 16 18 20 25 26 29 30:38 40 41 46 47 48 50 51:54 57 58:66 68 69:71 73 74 75 77 78 79 81 84 97')\n",
    "round2_child = align_utils.make_list_from_text('18 19 27 38')\n",
    "child_rej = [round1_child, round2_child]\n",
    "total_rej_child = len(round1_child) + len(round2_child)\n",
    "print('Total amount of rejected epo (child):\\t{}'.format(total_rej_child))\n",
    "\n",
    "total_nb_epo_child= total_rej_child+last_epo_child_nb\n",
    "print('Total amount of epo (child):\\t{}'.format(total_nb_epo_child))\n",
    "\n",
    "\n",
    "print('\\n')\n",
    "\n",
    "last_epo_adult_nb = eeg_adult.get_data().shape[0]\n",
    "print('EEG-adult has {} epochs.'.format(last_epo_adult_nb))\n",
    "round1_adult = align_utils.make_list_from_text('4 5 9 10 20 25 29 30:42 47 48 50 53 54 55 58 59:64 66 67 68 70 71 73 74 75 77 78 79 81 84')\n",
    "round2_adult = align_utils.make_list_from_text('7 9 16 23 24 25 31 32 33 47 50 51')\n",
    "round3_adult = align_utils.make_list_from_text('1 3 4 5 9 17 20 27')\n",
    "adult_rej = [round1_adult, round2_adult]\n",
    "total_rej_adult = len(round1_adult) + len(round2_adult) + len(round3_adult)\n",
    "print('Total amount of rejected epo (adult):\\t{}'.format(total_rej_adult))\n",
    "\n",
    "total_nb_epo_adult = total_rej_adult+last_epo_adult_nb\n",
    "print('Total amount of epo (adult):\\t{}'.format(total_nb_epo_adult))\n",
    "\n",
    "\n",
    "assert total_nb_epo_adult == total_nb_epo_child, '≠ total of epo: child={} & adult={}'.format(total_nb_epo_child, total_nb_epo_adult)\n"
   ]
  },
  {
   "attachments": {},
   "cell_type": "markdown",
   "metadata": {},
   "source": [
    "### Dyad 222"
   ]
  },
  {
   "cell_type": "code",
   "execution_count": null,
   "metadata": {},
   "outputs": [],
   "source": [
    "dy = dyads[6] # Choose a dyad\n",
    "print('Dyad: {}\\nChild file: {}\\nAdult file: {}\\n'.format(dy[0], dy[1], dy[2]))\n",
    "\n",
    "eeg_child = align_utils.EpochsEEGLAB_to_mneEpochsFIF('{}{}_{}_FP/{}'.format(data_path, dy[0], 'child', dy[1]), ) \n",
    "eeg_adult = align_utils.EpochsEEGLAB_to_mneEpochsFIF('{}{}_{}_FP/{}'.format(data_path, dy[0], 'adult', dy[2]), )"
   ]
  },
  {
   "cell_type": "code",
   "execution_count": 35,
   "metadata": {},
   "outputs": [
    {
     "name": "stdout",
     "output_type": "stream",
     "text": [
      "EEG-child has 365 epochs.\n",
      "Total amount of rejected epo (child):\t64\n",
      "Total amount of epo (child):\t429\n",
      "\n",
      "\n",
      "EEG-adult has 290 epochs.\n",
      "Total amount of rejected epo (adult):\t139\n",
      "Total amount of epo (adult):\t429\n"
     ]
    }
   ],
   "source": [
    "last_epo_child_nb = eeg_child.get_data().shape[0]\n",
    "print('EEG-child has {} epochs.'.format(last_epo_child_nb))\n",
    "round1_child = align_utils.make_list_from_text('1 2 6 9 21 30 48 49 53 57 66 67 75 83 84 111 138 145 171 217 218 235 264 272 273 278 304 311 331 334 340 343 356 360 381 382 383 404 408 409:411 422 424 425 427 428')\n",
    "round2_child = align_utils.make_list_from_text('31 109 110 127 164 194 195 196 243 309 314 330 347 348')\n",
    "round3_child = align_utils.make_list_from_text('4 37 4')\n",
    "child_rej = [round1_child, round2_child]\n",
    "total_rej_child = len(round1_child) + len(round2_child) + len(round3_child)\n",
    "print('Total amount of rejected epo (child):\\t{}'.format(total_rej_child))\n",
    "\n",
    "total_nb_epo_child= total_rej_child+last_epo_child_nb\n",
    "print('Total amount of epo (child):\\t{}'.format(total_nb_epo_child))\n",
    "\n",
    "\n",
    "print('\\n')\n",
    "\n",
    "last_epo_adult_nb = eeg_adult.get_data().shape[0]\n",
    "print('EEG-adult has {} epochs.'.format(last_epo_adult_nb))\n",
    "round1_adult = align_utils.make_list_from_text('1:4 8 9:16 18 19 22 23 25 26 28 29:31 33 34 35 38 39:42 44 45 47 49 50:58 61 62:64 76 85 86:88 93 94 95 97 98:100 106 107 112 114 115 120 121:123 139 140 204 205 208 209 210 218 236 237:239 246 247 248 276 289 335 361 362:365 367 368 370 384 411 413')\n",
    "round2_adult = align_utils.make_list_from_text('4 7 17 18 19 21 27 28 29 36 40 64 65 66 70 78 79 95 109 134 142 146 151 249 250 276 277')\n",
    "round3_adult = align_utils.make_list_from_text('1 3 13 17 23 30 34 35 51 52 56 80 90 291')\n",
    "adult_rej = [round1_adult, round2_adult]\n",
    "total_rej_adult = len(round1_adult) + len(round2_adult) + len(round3_adult)\n",
    "print('Total amount of rejected epo (adult):\\t{}'.format(total_rej_adult))\n",
    "\n",
    "total_nb_epo_adult = total_rej_adult+last_epo_adult_nb\n",
    "print('Total amount of epo (adult):\\t{}'.format(total_nb_epo_adult))\n",
    "\n",
    "\n",
    "assert total_nb_epo_adult == total_nb_epo_child, '≠ total of epo: child={} & adult={}'.format(total_nb_epo_child, total_nb_epo_adult)\n"
   ]
  },
  {
   "attachments": {},
   "cell_type": "markdown",
   "metadata": {},
   "source": [
    "### Dyad 218"
   ]
  },
  {
   "cell_type": "code",
   "execution_count": null,
   "metadata": {},
   "outputs": [],
   "source": [
    "dy = dyads[7] # Choose a dyad\n",
    "print('Dyad: {}\\nChild file: {}\\nAdult file: {}\\n'.format(dy[0], dy[1], dy[2]))\n",
    "\n",
    "eeg_child = align_utils.EpochsEEGLAB_to_mneEpochsFIF('{}{}_{}_FP/{}'.format(data_path, dy[0], 'child', dy[1]), ) \n",
    "eeg_adult = align_utils.EpochsEEGLAB_to_mneEpochsFIF('{}{}_{}_FP/{}'.format(data_path, dy[0], 'adult', dy[2]), )"
   ]
  },
  {
   "cell_type": "code",
   "execution_count": 38,
   "metadata": {},
   "outputs": [
    {
     "name": "stdout",
     "output_type": "stream",
     "text": [
      "EEG-child has 117 epochs.\n",
      "Total amount of rejected epo (child):\t32\n",
      "Total amount of epo (child):\t149\n",
      "\n",
      "\n",
      "EEG-adult has 141 epochs.\n",
      "Total amount of rejected epo (adult):\t8\n",
      "Total amount of epo (adult):\t149\n"
     ]
    }
   ],
   "source": [
    "last_epo_child_nb = eeg_child.get_data().shape[0]\n",
    "print('EEG-child has {} epochs.'.format(last_epo_child_nb))\n",
    "round1_child = align_utils.make_list_from_text('1 4 9 10:13 15 16:24 26 27:29 31 32 33 35 62 114')\n",
    "round2_child = align_utils.make_list_from_text('7 21 68 76 86')\n",
    "child_rej = [round1_child, round2_child]\n",
    "total_rej_child = len(round1_child) + len(round2_child) \n",
    "print('Total amount of rejected epo (child):\\t{}'.format(total_rej_child))\n",
    "\n",
    "total_nb_epo_child= total_rej_child+last_epo_child_nb\n",
    "print('Total amount of epo (child):\\t{}'.format(total_nb_epo_child))\n",
    "\n",
    "\n",
    "print('\\n')\n",
    "\n",
    "last_epo_adult_nb = eeg_adult.get_data().shape[0]\n",
    "print('EEG-adult has {} epochs.'.format(last_epo_adult_nb))\n",
    "round1_adult = align_utils.make_list_from_text('114 133')\n",
    "round2_adult = align_utils.make_list_from_text('12 13 20 23 132')\n",
    "round3_adult = align_utils.make_list_from_text('3')\n",
    "adult_rej = [round1_adult, round2_adult]\n",
    "total_rej_adult = len(round1_adult) + len(round2_adult) + len(round3_adult)\n",
    "print('Total amount of rejected epo (adult):\\t{}'.format(total_rej_adult))\n",
    "\n",
    "total_nb_epo_adult = total_rej_adult+last_epo_adult_nb\n",
    "print('Total amount of epo (adult):\\t{}'.format(total_nb_epo_adult))\n",
    "\n",
    "\n",
    "assert total_nb_epo_adult == total_nb_epo_child, '≠ total of epo: child={} & adult={}'.format(total_nb_epo_child, total_nb_epo_adult)\n"
   ]
  },
  {
   "attachments": {},
   "cell_type": "markdown",
   "metadata": {},
   "source": [
    "### Dyad 207"
   ]
  },
  {
   "cell_type": "code",
   "execution_count": null,
   "metadata": {},
   "outputs": [],
   "source": [
    "dy = dyads[8] # Choose a dyad\n",
    "print('Dyad: {}\\nChild file: {}\\nAdult file: {}\\n'.format(dy[0], dy[1], dy[2]))\n",
    "\n",
    "eeg_child = align_utils.EpochsEEGLAB_to_mneEpochsFIF('{}{}_{}_FP/{}'.format(data_path, dy[0], 'child', dy[1]), ) \n",
    "eeg_adult = align_utils.EpochsEEGLAB_to_mneEpochsFIF('{}{}_{}_FP/{}'.format(data_path, dy[0], 'adult', dy[2]), )"
   ]
  },
  {
   "cell_type": "code",
   "execution_count": 41,
   "metadata": {},
   "outputs": [
    {
     "name": "stdout",
     "output_type": "stream",
     "text": [
      "EEG-child has 190 epochs.\n",
      "Total amount of rejected epo (child):\t126\n",
      "Total amount of epo (child):\t316\n",
      "\n",
      "\n",
      "EEG-adult has 272 epochs.\n",
      "Total amount of rejected epo (adult):\t50\n",
      "Total amount of epo (adult):\t322\n"
     ]
    },
    {
     "ename": "AssertionError",
     "evalue": "≠ total of epo: child=316 & adult=322",
     "output_type": "error",
     "traceback": [
      "\u001b[0;31m---------------------------------------------------------------------------\u001b[0m",
      "\u001b[0;31mAssertionError\u001b[0m                            Traceback (most recent call last)",
      "\u001b[1;32m/Users/zoubou/Documents/Work/NYU/Brito-Lab/FINS-Codes/realigne-eeg-streams.ipynb Cell 71\u001b[0m in \u001b[0;36m<cell line: 29>\u001b[0;34m()\u001b[0m\n\u001b[1;32m     <a href='vscode-notebook-cell:/Users/zoubou/Documents/Work/NYU/Brito-Lab/FINS-Codes/realigne-eeg-streams.ipynb#Y226sZmlsZQ%3D%3D?line=24'>25</a>\u001b[0m total_nb_epo_adult \u001b[39m=\u001b[39m total_rej_adult\u001b[39m+\u001b[39mlast_epo_adult_nb\n\u001b[1;32m     <a href='vscode-notebook-cell:/Users/zoubou/Documents/Work/NYU/Brito-Lab/FINS-Codes/realigne-eeg-streams.ipynb#Y226sZmlsZQ%3D%3D?line=25'>26</a>\u001b[0m \u001b[39mprint\u001b[39m(\u001b[39m'\u001b[39m\u001b[39mTotal amount of epo (adult):\u001b[39m\u001b[39m\\t\u001b[39;00m\u001b[39m{}\u001b[39;00m\u001b[39m'\u001b[39m\u001b[39m.\u001b[39mformat(total_nb_epo_adult))\n\u001b[0;32m---> <a href='vscode-notebook-cell:/Users/zoubou/Documents/Work/NYU/Brito-Lab/FINS-Codes/realigne-eeg-streams.ipynb#Y226sZmlsZQ%3D%3D?line=28'>29</a>\u001b[0m \u001b[39massert\u001b[39;00m total_nb_epo_adult \u001b[39m==\u001b[39m total_nb_epo_child, \u001b[39m'\u001b[39m\u001b[39m≠ total of epo: child=\u001b[39m\u001b[39m{}\u001b[39;00m\u001b[39m & adult=\u001b[39m\u001b[39m{}\u001b[39;00m\u001b[39m'\u001b[39m\u001b[39m.\u001b[39mformat(total_nb_epo_child, total_nb_epo_adult)\n",
      "\u001b[0;31mAssertionError\u001b[0m: ≠ total of epo: child=316 & adult=322"
     ]
    }
   ],
   "source": [
    "last_epo_child_nb = eeg_child.get_data().shape[0]\n",
    "print('EEG-child has {} epochs.'.format(last_epo_child_nb))\n",
    "round1_child = align_utils.make_list_from_text('6 7 10 11 15 22 24 28 37 38 43 46 48 49 57 73 88 90 99 101 102:104 106 107 108 110 114 121 122 125 131 139 140 141 150 151 152 156 162 166 167 170 171 172 174 175 177 178:186 189 190 194 198 199:201 207 208 212 213 231 232 236 237 243 249 250:254 257 258 260 261 262 265 270 271 272 277 278 280 281:283 306 307')\n",
    "round2_child = align_utils.make_list_from_text('1 7 15 27 28 41 49 66 76 81 89 90 96 111 112 113 121 128 130 133 135 137 138 170 176 178 189 215')\n",
    "round3_child = align_utils.make_list_from_text('1 111')\n",
    "child_rej = [round1_child, round2_child]\n",
    "total_rej_child = len(round1_child) + len(round2_child) + len(round3_child)\n",
    "print('Total amount of rejected epo (child):\\t{}'.format(total_rej_child))\n",
    "\n",
    "total_nb_epo_child= total_rej_child+last_epo_child_nb\n",
    "print('Total amount of epo (child):\\t{}'.format(total_nb_epo_child))\n",
    "\n",
    "\n",
    "print('\\n')\n",
    "\n",
    "last_epo_adult_nb = eeg_adult.get_data().shape[0]\n",
    "print('EEG-adult has {} epochs.'.format(last_epo_adult_nb))\n",
    "round1_adult = align_utils.make_list_from_text('24 25 43 44 45 47 69 99 103 104 105 107 148 151 156 157 182 183:185 222 223 225 226 232 233 234 244 247 248:251 259 290 291 301 302')\n",
    "round2_adult = align_utils.make_list_from_text('32 211 219 259 260 274')\n",
    "round3_adult = align_utils.make_list_from_text('32 211 219 259 260 274')\n",
    "adult_rej = [round1_adult, round2_adult]\n",
    "total_rej_adult = len(round1_adult) + len(round2_adult) + len(round3_adult)\n",
    "print('Total amount of rejected epo (adult):\\t{}'.format(total_rej_adult))\n",
    "\n",
    "total_nb_epo_adult = total_rej_adult+last_epo_adult_nb\n",
    "print('Total amount of epo (adult):\\t{}'.format(total_nb_epo_adult))\n",
    "\n",
    "\n",
    "assert total_nb_epo_adult == total_nb_epo_child, '≠ total of epo: child={} & adult={}'.format(total_nb_epo_child, total_nb_epo_adult)\n"
   ]
  },
  {
   "attachments": {},
   "cell_type": "markdown",
   "metadata": {},
   "source": [
    "### Dyad 201"
   ]
  },
  {
   "cell_type": "code",
   "execution_count": null,
   "metadata": {},
   "outputs": [],
   "source": [
    "dy = dyads[9] # Choose a dyad\n",
    "print('Dyad: {}\\nChild file: {}\\nAdult file: {}\\n'.format(dy[0], dy[1], dy[2]))\n",
    "\n",
    "eeg_child = align_utils.EpochsEEGLAB_to_mneEpochsFIF('{}{}_{}_FP/{}'.format(data_path, dy[0], 'child', dy[1]), ) \n",
    "eeg_adult = align_utils.EpochsEEGLAB_to_mneEpochsFIF('{}{}_{}_FP/{}'.format(data_path, dy[0], 'adult', dy[2]), )"
   ]
  },
  {
   "cell_type": "code",
   "execution_count": 45,
   "metadata": {},
   "outputs": [
    {
     "name": "stdout",
     "output_type": "stream",
     "text": [
      "EEG-child has 193 epochs.\n",
      "Total amount of rejected epo (child):\t55\n",
      "Total amount of epo (child):\t248\n",
      "\n",
      "\n",
      "EEG-adult has 225 epochs.\n",
      "Total amount of rejected epo (adult):\t37\n",
      "Total amount of epo (adult):\t262\n"
     ]
    },
    {
     "ename": "AssertionError",
     "evalue": "≠ total of epo: child=248 & adult=262",
     "output_type": "error",
     "traceback": [
      "\u001b[0;31m---------------------------------------------------------------------------\u001b[0m",
      "\u001b[0;31mAssertionError\u001b[0m                            Traceback (most recent call last)",
      "\u001b[1;32m/Users/zoubou/Documents/Work/NYU/Brito-Lab/FINS-Codes/realigne-eeg-streams.ipynb Cell 74\u001b[0m in \u001b[0;36m<cell line: 27>\u001b[0;34m()\u001b[0m\n\u001b[1;32m     <a href='vscode-notebook-cell:/Users/zoubou/Documents/Work/NYU/Brito-Lab/FINS-Codes/realigne-eeg-streams.ipynb#Y231sZmlsZQ%3D%3D?line=22'>23</a>\u001b[0m total_nb_epo_adult \u001b[39m=\u001b[39m total_rej_adult\u001b[39m+\u001b[39mlast_epo_adult_nb\n\u001b[1;32m     <a href='vscode-notebook-cell:/Users/zoubou/Documents/Work/NYU/Brito-Lab/FINS-Codes/realigne-eeg-streams.ipynb#Y231sZmlsZQ%3D%3D?line=23'>24</a>\u001b[0m \u001b[39mprint\u001b[39m(\u001b[39m'\u001b[39m\u001b[39mTotal amount of epo (adult):\u001b[39m\u001b[39m\\t\u001b[39;00m\u001b[39m{}\u001b[39;00m\u001b[39m'\u001b[39m\u001b[39m.\u001b[39mformat(total_nb_epo_adult))\n\u001b[0;32m---> <a href='vscode-notebook-cell:/Users/zoubou/Documents/Work/NYU/Brito-Lab/FINS-Codes/realigne-eeg-streams.ipynb#Y231sZmlsZQ%3D%3D?line=26'>27</a>\u001b[0m \u001b[39massert\u001b[39;00m total_nb_epo_adult \u001b[39m==\u001b[39m total_nb_epo_child, \u001b[39m'\u001b[39m\u001b[39m≠ total of epo: child=\u001b[39m\u001b[39m{}\u001b[39;00m\u001b[39m & adult=\u001b[39m\u001b[39m{}\u001b[39;00m\u001b[39m'\u001b[39m\u001b[39m.\u001b[39mformat(total_nb_epo_child, total_nb_epo_adult)\n",
      "\u001b[0;31mAssertionError\u001b[0m: ≠ total of epo: child=248 & adult=262"
     ]
    }
   ],
   "source": [
    "last_epo_child_nb = eeg_child.get_data().shape[0]\n",
    "print('EEG-child has {} epochs.'.format(last_epo_child_nb))\n",
    "round1_child = align_utils.make_list_from_text('5 29 31 32 43 45 46 60 62 63 64 84 101 127 128 129 131 132:134 141 142:145 147 148 154 156 157 164 166 167 182 183:185 188 196 206 207 208 221 222:225 237 238:240 253 260 261:262')\n",
    "child_rej = [round1_child, round2_child]\n",
    "total_rej_child = len(round1_child) \n",
    "print('Total amount of rejected epo (child):\\t{}'.format(total_rej_child))\n",
    "\n",
    "total_nb_epo_child= total_rej_child+last_epo_child_nb\n",
    "print('Total amount of epo (child):\\t{}'.format(total_nb_epo_child))\n",
    "\n",
    "\n",
    "print('\\n')\n",
    "\n",
    "last_epo_adult_nb = eeg_adult.get_data().shape[0]\n",
    "print('EEG-adult has {} epochs.'.format(last_epo_adult_nb))\n",
    "round1_adult = align_utils.make_list_from_text('2 3 9 24 25 33 38 58 65 79 80 84 127 129 137 143 257 260 261')\n",
    "round2_adult = align_utils.make_list_from_text('2 7 11 108 112 118 119 223 224 225 227')\n",
    "round3_adult = align_utils.make_list_from_text('71 99 107 130 149 153 160')\n",
    "adult_rej = [round1_adult, round2_adult]\n",
    "total_rej_adult = len(round1_adult) + len(round2_adult) + len(round3_adult)\n",
    "print('Total amount of rejected epo (adult):\\t{}'.format(total_rej_adult))\n",
    "\n",
    "total_nb_epo_adult = total_rej_adult+last_epo_adult_nb\n",
    "print('Total amount of epo (adult):\\t{}'.format(total_nb_epo_adult))\n",
    "\n",
    "\n",
    "assert total_nb_epo_adult == total_nb_epo_child, '≠ total of epo: child={} & adult={}'.format(total_nb_epo_child, total_nb_epo_adult)\n"
   ]
  },
  {
   "attachments": {},
   "cell_type": "markdown",
   "metadata": {},
   "source": [
    "## Dyad 221"
   ]
  },
  {
   "attachments": {},
   "cell_type": "markdown",
   "metadata": {},
   "source": [
    "This dydad was rejected because of possible confusion on which file to use (might make a come back!)\n"
   ]
  },
  {
   "cell_type": "code",
   "execution_count": 48,
   "metadata": {},
   "outputs": [
    {
     "name": "stdout",
     "output_type": "stream",
     "text": [
      "0 213 True\n",
      "1 205 True\n",
      "2 217 True\n",
      "3 224 True\n",
      "4 220 True\n",
      "5 206 True\n",
      "6 222 True\n",
      "7 218 True\n",
      "8 207 True\n",
      "9 201 True\n"
     ]
    }
   ],
   "source": [
    "for id, dyad in enumerate(dyads):\n",
    "    print(id, dyad[0], (dyad[0] in ['201', '205', '206', '207', '213', '217', '218', '220', '221',\n",
    "       '222', '224']))"
   ]
  },
  {
   "cell_type": "code",
   "execution_count": null,
   "metadata": {},
   "outputs": [],
   "source": [
    "# dy = dyads[9] # Choose a dyad\n",
    "# print('Dyad: {}\\nChild file: {}\\nAdult file: {}\\n'.format(dy[0], dy[1], dy[2]))\n",
    "\n",
    "# eeg_child = align_utils.EpochsEEGLAB_to_mneEpochsFIF('{}{}_{}_FP/{}'.format(data_path, dy[0], 'child', dy[1]), ) \n",
    "# eeg_adult = align_utils.EpochsEEGLAB_to_mneEpochsFIF('{}{}_{}_FP/{}'.format(data_path, dy[0], 'adult', dy[2]), )"
   ]
  },
  {
   "cell_type": "code",
   "execution_count": null,
   "metadata": {},
   "outputs": [],
   "source": [
    "# last_epo_child_nb = eeg_child.get_data().shape[0]\n",
    "# print('EEG-child has {} epochs.'.format(last_epo_child_nb))\n",
    "# round1_child = align_utils.make_list_from_text('5 29 31 32 43 45 46 60 62 63 64 84 101 127 128 129 131 132:134 141 142:145 147 148 154 156 157 164 166 167 182 183:185 188 196 206 207 208 221 222:225 237 238:240 253 260 261:262')\n",
    "# child_rej = [round1_child, round2_child]\n",
    "# total_rej_child = len(round1_child) \n",
    "# print('Total amount of rejected epo (child):\\t{}'.format(total_rej_child))\n",
    "\n",
    "# total_nb_epo_child= total_rej_child+last_epo_child_nb\n",
    "# print('Total amount of epo (child):\\t{}'.format(total_nb_epo_child))\n",
    "\n",
    "\n",
    "# print('\\n')\n",
    "\n",
    "# last_epo_adult_nb = eeg_adult.get_data().shape[0]\n",
    "# print('EEG-adult has {} epochs.'.format(last_epo_adult_nb))\n",
    "# round1_adult = align_utils.make_list_from_text('2 3 9 24 25 33 38 58 65 79 80 84 127 129 137 143 257 260 261')\n",
    "# round2_adult = align_utils.make_list_from_text('2 7 11 108 112 118 119 223 224 225 227')\n",
    "# round3_adult = align_utils.make_list_from_text('71 99 107 130 149 153 160')\n",
    "# adult_rej = [round1_adult, round2_adult]\n",
    "# total_rej_adult = len(round1_adult) + len(round2_adult) + len(round3_adult)\n",
    "# print('Total amount of rejected epo (adult):\\t{}'.format(total_rej_adult))\n",
    "\n",
    "# total_nb_epo_adult = total_rej_adult+last_epo_adult_nb\n",
    "# print('Total amount of epo (adult):\\t{}'.format(total_nb_epo_adult))\n",
    "\n",
    "\n",
    "# assert total_nb_epo_adult == total_nb_epo_child, '≠ total of epo: child={} & adult={}'.format(total_nb_epo_child, total_nb_epo_adult)\n"
   ]
  },
  {
   "attachments": {},
   "cell_type": "markdown",
   "metadata": {},
   "source": [
    "## On to the next step"
   ]
  },
  {
   "attachments": {},
   "cell_type": "markdown",
   "metadata": {},
   "source": [
    "### Extract preprocessed epoch ID for both file (i.e., last state)\n",
    "First, let's take our dyad's files and extract their current epoch ID :"
   ]
  },
  {
   "cell_type": "code",
   "execution_count": null,
   "metadata": {},
   "outputs": [],
   "source": [
    "child_late_state = eeg_child.events[:, 0]\n",
    "adult_late_state = eeg_adult.events[:, 0]"
   ]
  },
  {
   "cell_type": "code",
   "execution_count": null,
   "metadata": {},
   "outputs": [],
   "source": [
    "# A way to subset the data\n",
    "\n",
    "tt = eeg_adult.get_data()\n",
    "print(tt.shape)\n",
    "print(tt[[2, 25],:,:].shape)\n"
   ]
  },
  {
   "cell_type": "code",
   "execution_count": null,
   "metadata": {},
   "outputs": [],
   "source": [
    "eeg_adult.to_data_frame()"
   ]
  },
  {
   "attachments": {},
   "cell_type": "markdown",
   "metadata": {},
   "source": [
    "Get the `last state ID` of the adult and child's EEG epochs:"
   ]
  },
  {
   "cell_type": "code",
   "execution_count": null,
   "metadata": {},
   "outputs": [],
   "source": [
    "epo_id_adult = [epoch_idx for epoch_idx, _ in enumerate(eeg_adult)]\n",
    "epo_id_child = [epoch_idx for epoch_idx, _ in enumerate(eeg_child)]"
   ]
  },
  {
   "cell_type": "code",
   "execution_count": null,
   "metadata": {},
   "outputs": [],
   "source": [
    "child_state_dict = align_utils.revert_to_original_idx(\n",
    "    last_state = epo_id_child,\n",
    "    removed_list  = child_rej,\n",
    "    verbose    = False)\n",
    "# print(child_state_dict)\n",
    "print(len(child_state_dict.keys()))\n",
    "\n",
    "adult_state_dict = align_utils.revert_to_original_idx(\n",
    "    last_state = epo_id_adult,\n",
    "    removed_list  = adult_rej,\n",
    "    verbose    = False)\n",
    "# print(adult_state_dict)\n",
    "print(len(adult_state_dict.keys()))"
   ]
  },
  {
   "attachments": {},
   "cell_type": "markdown",
   "metadata": {},
   "source": [
    "# Notes"
   ]
  },
  {
   "attachments": {},
   "cell_type": "markdown",
   "metadata": {},
   "source": [
    "Dyad 213: ≠ total of epo: child=398 & adult=397  —should be 398 for both\n",
    "Dyad 205: Dyads don't have the same amount of epo in the first place: will have to cut after 175.\n",
    "Dyad 217: ≠ total of epo: child=369 & adult=373 — should be 364 for both\n",
    "Dyad 224: ≠ total of epo: child=323 & adult=327 — should be 327 for both \n",
    "Dyad 220: ≠ total of epo: child=235 & adult=234 — should be 325 for both \n",
    "Dyad 206: IS GOOD! but only has 97 epochs\n",
    "Dyad 222: IS GOOD!\n",
    "Dyad 218: IS GOOD!\n",
    "Dyad 207: ≠ total of epo: child=316 & adult=322 — should be 316 for both \n",
    "Dyad 201: ≠ total of epo: child=248 & adult=262 — should be 262 for both "
   ]
  },
  {
   "attachments": {},
   "cell_type": "markdown",
   "metadata": {},
   "source": [
    "# Useful references"
   ]
  },
  {
   "attachments": {},
   "cell_type": "markdown",
   "metadata": {},
   "source": [
    "- To get comfortable with the MNE documentation, you should know that MNE is based on python [Object Oriented Programming (00P)](hstate_dictps://realpython.com/python3-object-oriented-programming/). These objects are defined from a python `Class`.\n",
    "    - You can get familiarized with the OOP structure and its componenent, e.g. `methods` (a function associated to the the object) and `astate_dictribute` (a variable associated to the object), wit [this tutorial](hstate_dictps://www.datacamp.com/tutorial/python-oop-tutorial).\n",
    "    - In MNE, we find [`Raw` objects](hstate_dictps://mne.tools/stable/generated/mne.io.Raw.html) (continuous data) or [`Epoch` objects](hstate_dictps://mne.tools/stable/generated/mne.Epochs.html) (a collection of epochs). \n",
    "\n",
    "You can find an introduction to the **Epochs data structure** [here](hstate_dictps://mne.tools/stable/auto_tutorials/epochs/10_epochs_overview.html) in MNE. "
   ]
  },
  {
   "attachments": {},
   "cell_type": "markdown",
   "metadata": {},
   "source": [
    "### Extracting the epoch data\n",
    "\n",
    "We're now going to extract the epoch data from the mne.EpochFIF to apply the operation described above."
   ]
  },
  {
   "attachments": {},
   "cell_type": "markdown",
   "metadata": {},
   "source": [
    "- Keeping a record of which epochs were actuallly removed post intersection"
   ]
  }
 ],
 "metadata": {
  "kernelspec": {
   "display_name": "Python 3.8.8",
   "language": "python",
   "name": "python3"
  },
  "language_info": {
   "codemirror_mode": {
    "name": "ipython",
    "version": 3
   },
   "file_extension": ".py",
   "mimetype": "text/x-python",
   "name": "python",
   "nbconvert_exporter": "python",
   "pygments_lexer": "ipython3",
   "version": "3.8.8"
  },
  "orig_nbformat": 4,
  "vscode": {
   "interpreter": {
    "hash": "9d93afb8cdc34b2bdea5bf079bccd93013ea04d457e334f9ae90fb664fbdee86"
   }
  }
 },
 "nbformat": 4,
 "nbformat_minor": 2
}
