{
 "cells": [
  {
   "attachments": {},
   "cell_type": "markdown",
   "metadata": {},
   "source": [
    "# Realign two EEGLab.Epoch object's epochs.\n",
    "\n",
    "@Author [@FranckPrts](hstate_dictps://github.com/FranckPrts).\n",
    "\n",
    "Here we provide a python-based solution to **realign concurrent epochs contained in two epoched object that lost their alignement because of losing their concurrence during preprocessing.**\n",
    "\n",
    "After procedding to preprocessing in EEGLAB, the data were saved in `.set` format. When later loading this data, the \n",
    "\n",
    "Our main goal here is to remove epochs in a given EEG that should have been removed during preprocessing when the concurent epoch in the other EEG was. At the end, we should have two epoched EEG with the same amount of epochs and where each epoch at a given index correspond what was curcurent while recording.\n",
    "\n",
    "As exemplified below: "
   ]
  },
  {
   "cell_type": "markdown",
   "metadata": {},
   "source": [
    "#IMAGE"
   ]
  },
  {
   "attachments": {},
   "cell_type": "markdown",
   "metadata": {},
   "source": [
    "Things that might be idiosynchratic:\n",
    "\n",
    "1. Our EEG data was segmented in 1sec epochs (which helps with congruency between epochs and the time they where collected).\n",
    "2. Preprocessing was done independelty for each EEG data. \n",
    "3. Each dyad were preprocessed 2-3 times (iteration).\n",
    "    - epochs ID that were rejected were noted in a separate file between each round.\n",
    "    - the objects were save at the end of each iteration and re-read after so .\n",
    "\n",
    "Our issue arise from the fact that once each step was performed, saving the data would lead to losing track of what was the epochs original IDs. \n",
    "\n",
    "In that process we see that an epoch that originally had the ID #6 can end up with the new ID #3. \n",
    "\n",
    "To retrieve the original id of the epoch, we will have to work bakward from the last iteration of preprocessing to the first iteration. At each step we will store what was the previous ID of the epochs so we can find their original IDs. "
   ]
  },
  {
   "attachments": {},
   "cell_type": "markdown",
   "metadata": {},
   "source": [
    "## Imports"
   ]
  },
  {
   "cell_type": "code",
   "execution_count": 1,
   "metadata": {},
   "outputs": [],
   "source": [
    "# Package \n",
    "import mne\n",
    "import numpy as np\n",
    "import pandas as pd\n",
    "\n",
    "# Custom functions\n",
    "from utils import align_utils\n",
    "\n",
    "# %matplotlib inline"
   ]
  },
  {
   "cell_type": "markdown",
   "metadata": {},
   "source": [
    "We import two eeg stream that were preprocessed in MATLAB"
   ]
  },
  {
   "cell_type": "code",
   "execution_count": 2,
   "metadata": {},
   "outputs": [],
   "source": [
    "files_to_process = np.loadtxt(\"files_to_process.csv\",\n",
    "                 delimiter=\",\", dtype=str)\n",
    "\n",
    "dyad = [x for x in files_to_process]\n",
    "# Careful, the file_to_process is in the order (dyad_nb, eeg_filepath_child, eeg_filepath_adutl)\n",
    "dy = dyad[0]\n",
    "data_path = '../FINS-data/'"
   ]
  },
  {
   "cell_type": "code",
   "execution_count": 3,
   "metadata": {},
   "outputs": [
    {
     "name": "stdout",
     "output_type": "stream",
     "text": [
      "Extracting parameters from /Users/zoubou/Documents/Work/NYU/Brito-Lab/FINS-Codes/../FINS-data/213_child_FP/FINS_213_Child_FreePlay_Filt_xchan_epochs_rej_prunedICA_rej2.set...\n",
      "Not setting metadata\n",
      "325 matching events found\n",
      "No baseline correction applied\n",
      "0 projection items activated\n",
      "Ready.\n",
      "Reading /var/folders/vv/stc9rswn5c95vxdzpx7z6qqr0000gn/T/tmpvv3n5bu9tmp.fif ...\n",
      "    Found the data of interest:\n",
      "        t =       0.00 ...     998.00 ms\n",
      "        0 CTF compensation matrices available\n",
      "0 bad epochs dropped\n",
      "Not setting metadata\n",
      "325 matching events found\n",
      "No baseline correction applied\n",
      "0 projection items activated\n"
     ]
    },
    {
     "name": "stderr",
     "output_type": "stream",
     "text": [
      "/Users/zoubou/Documents/Work/NYU/Brito-Lab/FINS-Codes/utils/align_utils.py:29: RuntimeWarning: At least one epoch has multiple events. Only the latency of the first event will be retained.\n",
      "  tmp = mne.io.read_epochs_eeglab(path)\n",
      "/Users/zoubou/Documents/Work/NYU/Brito-Lab/FINS-Codes/utils/align_utils.py:33: RuntimeWarning: This filename (/var/folders/vv/stc9rswn5c95vxdzpx7z6qqr0000gn/T/tmpvv3n5bu9tmp.fif) does not conform to MNE naming conventions. All epochs files should end with -epo.fif, -epo.fif.gz, _epo.fif or _epo.fif.gz\n",
      "  tmp.save(tmpdir+\"tmp.fif\", overwrite=True, verbose=None)\n",
      "/Users/zoubou/Documents/Work/NYU/Brito-Lab/FINS-Codes/utils/align_utils.py:36: RuntimeWarning: This filename (/var/folders/vv/stc9rswn5c95vxdzpx7z6qqr0000gn/T/tmpvv3n5bu9tmp.fif) does not conform to MNE naming conventions. All epochs files should end with -epo.fif, -epo.fif.gz, _epo.fif or _epo.fif.gz\n",
      "  return mne.read_epochs(tmpdir+\"tmp.fif\")\n"
     ]
    },
    {
     "name": "stdout",
     "output_type": "stream",
     "text": [
      "Extracting parameters from /Users/zoubou/Documents/Work/NYU/Brito-Lab/FINS-Codes/../FINS-data/213_adult_FP/FINS_213_ADULT_FreePlay_Rej_ICA_rej2.set...\n",
      "Not setting metadata\n",
      "316 matching events found\n",
      "No baseline correction applied\n",
      "0 projection items activated\n",
      "Ready.\n",
      "Reading /var/folders/vv/stc9rswn5c95vxdzpx7z6qqr0000gn/T/tmphek5udm4tmp.fif ...\n",
      "    Found the data of interest:\n",
      "        t =       0.00 ...     998.00 ms\n",
      "        0 CTF compensation matrices available\n",
      "0 bad epochs dropped\n",
      "Not setting metadata\n",
      "316 matching events found\n",
      "No baseline correction applied\n",
      "0 projection items activated\n"
     ]
    },
    {
     "name": "stderr",
     "output_type": "stream",
     "text": [
      "/Users/zoubou/Documents/Work/NYU/Brito-Lab/FINS-Codes/utils/align_utils.py:29: RuntimeWarning: At least one epoch has multiple events. Only the latency of the first event will be retained.\n",
      "  tmp = mne.io.read_epochs_eeglab(path)\n",
      "/Users/zoubou/Documents/Work/NYU/Brito-Lab/FINS-Codes/utils/align_utils.py:33: RuntimeWarning: This filename (/var/folders/vv/stc9rswn5c95vxdzpx7z6qqr0000gn/T/tmphek5udm4tmp.fif) does not conform to MNE naming conventions. All epochs files should end with -epo.fif, -epo.fif.gz, _epo.fif or _epo.fif.gz\n",
      "  tmp.save(tmpdir+\"tmp.fif\", overwrite=True, verbose=None)\n",
      "/Users/zoubou/Documents/Work/NYU/Brito-Lab/FINS-Codes/utils/align_utils.py:36: RuntimeWarning: This filename (/var/folders/vv/stc9rswn5c95vxdzpx7z6qqr0000gn/T/tmphek5udm4tmp.fif) does not conform to MNE naming conventions. All epochs files should end with -epo.fif, -epo.fif.gz, _epo.fif or _epo.fif.gz\n",
      "  return mne.read_epochs(tmpdir+\"tmp.fif\")\n"
     ]
    }
   ],
   "source": [
    "eeg_child = align_utils.EpochsEEGLAB_to_mneEpochsFIF('{}{}_{}_FP/{}'.format(data_path, dy[0], 'child', dy[1])) \n",
    "eeg_adult = align_utils.EpochsEEGLAB_to_mneEpochsFIF('{}{}_{}_FP/{}'.format(data_path, dy[0], 'adult', dy[2]))"
   ]
  },
  {
   "cell_type": "markdown",
   "metadata": {},
   "source": [
    "Let's see how many epochs we have per EEG file:"
   ]
  },
  {
   "cell_type": "code",
   "execution_count": 4,
   "metadata": {},
   "outputs": [
    {
     "name": "stdout",
     "output_type": "stream",
     "text": [
      "EEG-child has 325 epochs.\n",
      "EEG-adult has 316 epochs.\n"
     ]
    }
   ],
   "source": [
    "print('EEG-child has {} epochs.'.format(eeg_child.get_data().shape[0]))\n",
    "print('EEG-adult has {} epochs.'.format(eeg_adult.get_data().shape[0]))"
   ]
  },
  {
   "attachments": {},
   "cell_type": "markdown",
   "metadata": {},
   "source": [
    "Well, there should be the same amount of epochs in each file. Moreover, when looking at the index of each epochs (see the x-axis of the plots bellow) we can see that they are all continuous, thus, not indicating which epochs were rejected:"
   ]
  },
  {
   "cell_type": "code",
   "execution_count": 5,
   "metadata": {},
   "outputs": [],
   "source": [
    "# eeg1.plot()"
   ]
  },
  {
   "cell_type": "code",
   "execution_count": 6,
   "metadata": {},
   "outputs": [],
   "source": [
    "# eeg2.plot()"
   ]
  },
  {
   "attachments": {},
   "cell_type": "markdown",
   "metadata": {},
   "source": [
    "### What's the plan now?\n",
    "\n",
    "When loading an file in the EEGLAB format,  You have the following epoch indeces in your preprocessed file: \n",
    "\n",
    "`1, 2, 3, 4, 5, 6, 7`\n",
    "\n",
    "And you know that the following epochs were rejected:\n",
    "\n",
    "`3, 7, 8`\n",
    "\n",
    "but then get \n",
    "\n",
    "`1, 2, 3, 4`\n",
    "\n",
    "We'll now reconstruct the original epoch index as follows? (Within brackets):\n",
    "\n",
    "`1(1), 2(2), NaN, 4(3), 5(4), 6(5), NaN, NaN, 9(6), 10(7)`\n",
    "\n",
    "\n",
    "> **Careful, we have multiple round of rejection, so that method will have to be iterated over each round.**"
   ]
  },
  {
   "cell_type": "code",
   "execution_count": 7,
   "metadata": {},
   "outputs": [],
   "source": [
    "df1 = eeg1.to_data_frame()\n",
    "df2 = eeg2.to_data_frame()"
   ]
  },
  {
   "cell_type": "code",
   "execution_count": 8,
   "metadata": {},
   "outputs": [],
   "source": [
    "Eeg1epochsIDs = df1.epoch.unique()\n",
    "Eeg2epochsIDs = df2.epoch.unique()"
   ]
  },
  {
   "attachments": {},
   "cell_type": "markdown",
   "metadata": {},
   "source": [
    "## Make an example"
   ]
  },
  {
   "attachments": {},
   "cell_type": "markdown",
   "metadata": {},
   "source": [
    "### Example 1 (2 rounds of preprocessing)"
   ]
  },
  {
   "cell_type": "code",
   "execution_count": 9,
   "metadata": {},
   "outputs": [
    {
     "data": {
      "text/html": [
       "<div>\n",
       "<style scoped>\n",
       "    .dataframe tbody tr th:only-of-type {\n",
       "        vertical-align: middle;\n",
       "    }\n",
       "\n",
       "    .dataframe tbody tr th {\n",
       "        vertical-align: top;\n",
       "    }\n",
       "\n",
       "    .dataframe thead th {\n",
       "        text-align: right;\n",
       "    }\n",
       "</style>\n",
       "<table border=\"1\" class=\"dataframe\">\n",
       "  <thead>\n",
       "    <tr style=\"text-align: right;\">\n",
       "      <th></th>\n",
       "      <th>Letters</th>\n",
       "      <th>indeces</th>\n",
       "    </tr>\n",
       "  </thead>\n",
       "  <tbody>\n",
       "    <tr>\n",
       "      <th>0</th>\n",
       "      <td>A</td>\n",
       "      <td>0</td>\n",
       "    </tr>\n",
       "    <tr>\n",
       "      <th>1</th>\n",
       "      <td>B</td>\n",
       "      <td>1</td>\n",
       "    </tr>\n",
       "    <tr>\n",
       "      <th>2</th>\n",
       "      <td>C</td>\n",
       "      <td>2</td>\n",
       "    </tr>\n",
       "    <tr>\n",
       "      <th>3</th>\n",
       "      <td>D</td>\n",
       "      <td>3</td>\n",
       "    </tr>\n",
       "    <tr>\n",
       "      <th>4</th>\n",
       "      <td>E</td>\n",
       "      <td>4</td>\n",
       "    </tr>\n",
       "    <tr>\n",
       "      <th>5</th>\n",
       "      <td>F</td>\n",
       "      <td>5</td>\n",
       "    </tr>\n",
       "    <tr>\n",
       "      <th>6</th>\n",
       "      <td>G</td>\n",
       "      <td>6</td>\n",
       "    </tr>\n",
       "    <tr>\n",
       "      <th>7</th>\n",
       "      <td>H</td>\n",
       "      <td>7</td>\n",
       "    </tr>\n",
       "  </tbody>\n",
       "</table>\n",
       "</div>"
      ],
      "text/plain": [
       "  Letters  indeces\n",
       "0       A        0\n",
       "1       B        1\n",
       "2       C        2\n",
       "3       D        3\n",
       "4       E        4\n",
       "5       F        5\n",
       "6       G        6\n",
       "7       H        7"
      ]
     },
     "execution_count": 9,
     "metadata": {},
     "output_type": "execute_result"
    }
   ],
   "source": [
    "df = pd.DataFrame({'Letters': ['A', 'B', 'C', 'D', 'E', 'F', 'G', 'H'], 'indeces': [0, 1, 2, 3, 4, 5, 6, 7]})\n",
    "\n",
    "# pd.set_option('display.max_rows', len(state_dict))\n",
    "df"
   ]
  },
  {
   "cell_type": "code",
   "execution_count": 10,
   "metadata": {},
   "outputs": [
    {
     "data": {
      "text/html": [
       "<div>\n",
       "<style scoped>\n",
       "    .dataframe tbody tr th:only-of-type {\n",
       "        vertical-align: middle;\n",
       "    }\n",
       "\n",
       "    .dataframe tbody tr th {\n",
       "        vertical-align: top;\n",
       "    }\n",
       "\n",
       "    .dataframe thead th {\n",
       "        text-align: right;\n",
       "    }\n",
       "</style>\n",
       "<table border=\"1\" class=\"dataframe\">\n",
       "  <thead>\n",
       "    <tr style=\"text-align: right;\">\n",
       "      <th></th>\n",
       "      <th>Letters</th>\n",
       "      <th>indeces</th>\n",
       "    </tr>\n",
       "  </thead>\n",
       "  <tbody>\n",
       "    <tr>\n",
       "      <th>0</th>\n",
       "      <td>A</td>\n",
       "      <td>0</td>\n",
       "    </tr>\n",
       "    <tr>\n",
       "      <th>2</th>\n",
       "      <td>C</td>\n",
       "      <td>1</td>\n",
       "    </tr>\n",
       "    <tr>\n",
       "      <th>4</th>\n",
       "      <td>E</td>\n",
       "      <td>2</td>\n",
       "    </tr>\n",
       "    <tr>\n",
       "      <th>5</th>\n",
       "      <td>F</td>\n",
       "      <td>3</td>\n",
       "    </tr>\n",
       "    <tr>\n",
       "      <th>6</th>\n",
       "      <td>G</td>\n",
       "      <td>4</td>\n",
       "    </tr>\n",
       "    <tr>\n",
       "      <th>7</th>\n",
       "      <td>H</td>\n",
       "      <td>5</td>\n",
       "    </tr>\n",
       "  </tbody>\n",
       "</table>\n",
       "</div>"
      ],
      "text/plain": [
       "  Letters  indeces\n",
       "0       A        0\n",
       "2       C        1\n",
       "4       E        2\n",
       "5       F        3\n",
       "6       G        4\n",
       "7       H        5"
      ]
     },
     "execution_count": 10,
     "metadata": {},
     "output_type": "execute_result"
    }
   ],
   "source": [
    "# Now we remove two rows in a first round:\n",
    "# Create a list of elements to remove\n",
    "rmed_1 = [1, 3]\n",
    "\n",
    "# Create a boolean mask indicating which rows to keep\n",
    "mask = df['indeces'].isin(rmed_1)\n",
    "\n",
    "# Remove the rows that match the elements in the list\n",
    "df.drop(index=df[mask].index, inplace=True)\n",
    "\n",
    "# Now we reset the index the same way saving this 'eeg' file would when being read for the next iteration's round \n",
    "df.indeces = [i for i in range(len(df))]\n",
    "df"
   ]
  },
  {
   "cell_type": "code",
   "execution_count": 11,
   "metadata": {},
   "outputs": [
    {
     "data": {
      "text/html": [
       "<div>\n",
       "<style scoped>\n",
       "    .dataframe tbody tr th:only-of-type {\n",
       "        vertical-align: middle;\n",
       "    }\n",
       "\n",
       "    .dataframe tbody tr th {\n",
       "        vertical-align: top;\n",
       "    }\n",
       "\n",
       "    .dataframe thead th {\n",
       "        text-align: right;\n",
       "    }\n",
       "</style>\n",
       "<table border=\"1\" class=\"dataframe\">\n",
       "  <thead>\n",
       "    <tr style=\"text-align: right;\">\n",
       "      <th></th>\n",
       "      <th>Letters</th>\n",
       "      <th>indeces</th>\n",
       "    </tr>\n",
       "  </thead>\n",
       "  <tbody>\n",
       "    <tr>\n",
       "      <th>2</th>\n",
       "      <td>C</td>\n",
       "      <td>0</td>\n",
       "    </tr>\n",
       "    <tr>\n",
       "      <th>5</th>\n",
       "      <td>F</td>\n",
       "      <td>1</td>\n",
       "    </tr>\n",
       "    <tr>\n",
       "      <th>6</th>\n",
       "      <td>G</td>\n",
       "      <td>2</td>\n",
       "    </tr>\n",
       "  </tbody>\n",
       "</table>\n",
       "</div>"
      ],
      "text/plain": [
       "  Letters  indeces\n",
       "2       C        0\n",
       "5       F        1\n",
       "6       G        2"
      ]
     },
     "execution_count": 11,
     "metadata": {},
     "output_type": "execute_result"
    }
   ],
   "source": [
    "# Now were remove three rows and directly reset the indeces\n",
    "# Create a list of elements to remove\n",
    "rmed_2 = [2, 5, 0]\n",
    "\n",
    "# Create a boolean mask indicating which rows to keep\n",
    "mask = df['indeces'].isin(rmed_2)\n",
    "\n",
    "# Remove the rows that match the elements in the list\n",
    "df.drop(index=df[mask].index, inplace=True)\n",
    "\n",
    "df.indeces = [i for i in range(len(df))]\n",
    "\n",
    "df"
   ]
  },
  {
   "attachments": {},
   "cell_type": "markdown",
   "metadata": {},
   "source": [
    "Alrigth, now we have two list containning the indeces that were removed **`at the time of their round of rejection`**. \n",
    "\n",
    "Keep in mind that the index #4 could be deleted in multiple round as #4 could be reassigned when the file is re-read."
   ]
  },
  {
   "cell_type": "code",
   "execution_count": 12,
   "metadata": {},
   "outputs": [
    {
     "name": "stdout",
     "output_type": "stream",
     "text": [
      "Index that were rejected at the\n",
      "\t1st round: [1, 3]\n",
      "\t2st round: [2, 5, 0]\n",
      "The indeces as they are after the last rejection round [0, 1, 2]\n"
     ]
    }
   ],
   "source": [
    "final_idx = df['indeces'].tolist()\n",
    "print('Index that were rejected at the\\n\\t1st round: {}\\n\\t2st round: {}'.format(rmed_1, rmed_2))\n",
    "print('The indeces as they are after the last rejection round {}'.format(final_idx))"
   ]
  },
  {
   "attachments": {},
   "cell_type": "markdown",
   "metadata": {},
   "source": [
    "Define the list of epochs that were rejected as the `list` of `list` containing the IDs of the epochs that were rejected at each round of preprocessing. **The first `list` should contain the epochs IDs rejected at first preprocessing round and the last element should correspond to the last.** "
   ]
  },
  {
   "cell_type": "code",
   "execution_count": 13,
   "metadata": {},
   "outputs": [
    {
     "data": {
      "text/plain": [
       "[[1, 3], [2, 5, 0]]"
      ]
     },
     "execution_count": 13,
     "metadata": {},
     "output_type": "execute_result"
    }
   ],
   "source": [
    "# Define the list of epochs that were rejected\n",
    "rmed_list=[rmed_1, rmed_2]\n",
    "rmed_list"
   ]
  },
  {
   "cell_type": "code",
   "execution_count": 14,
   "metadata": {},
   "outputs": [
    {
     "name": "stdout",
     "output_type": "stream",
     "text": [
      "Initial state:\n",
      "\t 0 0\n",
      "\t 1 1\n",
      "\t 2 2\n",
      "Updated state:\n",
      "\t 0 NaN\n",
      "\t 1 0\n",
      "\t 2 NaN\n",
      "\t 3 1\n",
      "\t 4 2\n",
      "\t 5 NaN\n",
      "Updated state:\n",
      "\t 0 NaN\n",
      "\t 2 0\n",
      "\t 4 NaN\n",
      "\t 5 1\n",
      "\t 6 2\n",
      "\t 7 NaN\n",
      "\t 1 NaN\n",
      "\t 3 NaN\n"
     ]
    }
   ],
   "source": [
    "updated_state_dict = align_utils.revert_to_original_idx(\n",
    "    last_state = final_idx,\n",
    "    removed_list  = rmed_list,\n",
    "    verbose    = True)"
   ]
  },
  {
   "attachments": {},
   "cell_type": "markdown",
   "metadata": {},
   "source": [
    "Let's verify that we reconstructed the correspondance between IDs and their original place correctly."
   ]
  },
  {
   "cell_type": "code",
   "execution_count": 15,
   "metadata": {},
   "outputs": [
    {
     "name": "stdout",
     "output_type": "stream",
     "text": [
      "\tOriginal ID\tFinal state\tLetter\n",
      "\t 0 \t\t NaN \t\t A\n",
      "\t 1 \t\t NaN \t\t B\n",
      "\t 2 \t\t 0 \t\t C\n",
      "\t 3 \t\t NaN \t\t D\n",
      "\t 4 \t\t NaN \t\t E\n",
      "\t 5 \t\t 1 \t\t F\n",
      "\t 6 \t\t 2 \t\t G\n",
      "\t 7 \t\t NaN \t\t H\n"
     ]
    }
   ],
   "source": [
    "letters=['A', 'B', 'C', 'D', 'E', 'F', 'G', 'H']\n",
    "\n",
    "tt = sorted(updated_state_dict.keys())\n",
    "\n",
    "print('\\tOriginal ID\\tFinal state\\tLetter',)\n",
    "for i in tt:\n",
    "    print('\\t',i,'\\t\\t',updated_state_dict[i],'\\t\\t', letters[i])  "
   ]
  },
  {
   "attachments": {},
   "cell_type": "markdown",
   "metadata": {},
   "source": [
    "Yay! We've rebuilt the connection between the indeces that were given post preprocessing (above, the column 'Original ID')and the ones we got (the 'Final state' column).\n",
    "\n",
    "We now have a dictionnary that has `keys` representing each of the original epoch ID and `values` representing the state of that epoch at the end of preprocessing.\n",
    "\n",
    "The **state** can be either\n",
    "- `NaN` which indicated that this epoch was removed during preprocessing **or,**\n",
    "- the id that was initially associated to the remaining epochs."
   ]
  },
  {
   "attachments": {},
   "cell_type": "markdown",
   "metadata": {},
   "source": [
    "### Example 2 (3 rounds of preprocessing)"
   ]
  },
  {
   "cell_type": "code",
   "execution_count": 16,
   "metadata": {},
   "outputs": [
    {
     "name": "stdout",
     "output_type": "stream",
     "text": [
      "df2: original\n",
      "   Letters  indeces\n",
      "0       A        0\n",
      "1       B        1\n",
      "2       C        2\n",
      "3       D        3\n",
      "4       E        4\n",
      "5       F        5\n",
      "6       G        6\n",
      "7       H        7\n",
      "\n",
      "df2: 1st round of rejection\n",
      "   Letters  indeces\n",
      "0       A        0\n",
      "2       C        1\n",
      "3       D        2\n",
      "5       F        3\n",
      "6       G        4\n",
      "7       H        5\n",
      "\n",
      "df2: 2nd round of rejection\n",
      "   Letters  indeces\n",
      "2       C        0\n",
      "3       D        1\n",
      "5       F        2\n",
      "6       G        3\n",
      "7       H        4\n",
      "\n",
      "df2: 3rd round of rejection\n",
      "   Letters  indeces\n",
      "2       C        0\n",
      "3       D        1\n",
      "5       F        2\n"
     ]
    }
   ],
   "source": [
    "df2 = pd.DataFrame({'Letters': ['A', 'B', 'C', 'D', 'E', 'F', 'G', 'H'], 'indeces': [0, 1, 2, 3, 4, 5, 6, 7]})\n",
    "print('df2: original\\n', df2)\n",
    "\n",
    "rmed_1_2 = [1, 4]\n",
    "df2.drop(index=df2[df2['indeces'].isin(rmed_1_2)].index, inplace=True)\n",
    "df2.indeces = [i for i in range(len(df2))]\n",
    "print('\\ndf2: 1st round of rejection\\n', df2)\n",
    "\n",
    "rmed_2_2 = [0]\n",
    "df2.drop(index=df2[df2['indeces'].isin(rmed_2_2)].index, inplace=True)\n",
    "df2.indeces = [i for i in range(len(df2))]\n",
    "print('\\ndf2: 2nd round of rejection\\n', df2)\n",
    "\n",
    "rmed_3_2 = [3, 4]\n",
    "df2.drop(index=df2[df2['indeces'].isin(rmed_3_2)].index, inplace=True)\n",
    "df2.indeces = [i for i in range(len(df2))]\n",
    "print('\\ndf2: 3rd round of rejection\\n', df2)\n"
   ]
  },
  {
   "cell_type": "code",
   "execution_count": 17,
   "metadata": {},
   "outputs": [],
   "source": [
    "updated_state_dict_2 = align_utils.revert_to_original_idx(\n",
    "    last_state = df2['indeces'].tolist(),\n",
    "    removed_list  = [rmed_1_2, rmed_2_2, rmed_3_2],\n",
    "    verbose    = False)"
   ]
  },
  {
   "cell_type": "code",
   "execution_count": 18,
   "metadata": {},
   "outputs": [
    {
     "name": "stdout",
     "output_type": "stream",
     "text": [
      "\tOriginal ID\tFinal state\tLetter\n",
      "\t 0 \t\t NaN \t\t A\n",
      "\t 1 \t\t NaN \t\t B\n",
      "\t 2 \t\t 0 \t\t C\n",
      "\t 3 \t\t 1 \t\t D\n",
      "\t 4 \t\t NaN \t\t E\n",
      "\t 5 \t\t 2 \t\t F\n",
      "\t 6 \t\t NaN \t\t G\n",
      "\t 7 \t\t NaN \t\t H\n"
     ]
    }
   ],
   "source": [
    "print('\\tOriginal ID\\tFinal state\\tLetter',)\n",
    "for i in sorted(updated_state_dict_2.keys()):\n",
    "    print('\\t',i,'\\t\\t',updated_state_dict_2[i],'\\t\\t', letters[i])  "
   ]
  },
  {
   "attachments": {},
   "cell_type": "markdown",
   "metadata": {},
   "source": [
    "### Finding concurrent epochs from "
   ]
  },
  {
   "attachments": {},
   "cell_type": "markdown",
   "metadata": {},
   "source": [
    "Alright, now we have 2 dictionnary containing as keys the original epochs index, and as values, the `last state`. I.e., either `NaN` if the epoch was removed **or** the latest index given to this epoch post-preprocessing. \n",
    "\n",
    "We're now going to see which paris of concurrent epochs are still available in each set of data."
   ]
  },
  {
   "cell_type": "code",
   "execution_count": 20,
   "metadata": {},
   "outputs": [
    {
     "name": "stdout",
     "output_type": "stream",
     "text": [
      "{0: 'NaN', 2: 0, 4: 'NaN', 5: 1, 6: 2, 7: 'NaN', 1: 'NaN', 3: 'NaN'}\n",
      "{2: 0, 3: 1, 5: 2, 6: 'NaN', 7: 'NaN', 0: 'NaN', 1: 'NaN', 4: 'NaN'}\n"
     ]
    }
   ],
   "source": [
    "print(updated_state_dict)\n",
    "print(updated_state_dict_2)"
   ]
  },
  {
   "attachments": {},
   "cell_type": "markdown",
   "metadata": {},
   "source": [
    "First, we convert these dictionnary to pd.df:"
   ]
  },
  {
   "cell_type": "code",
   "execution_count": 34,
   "metadata": {},
   "outputs": [
    {
     "name": "stdout",
     "output_type": "stream",
     "text": [
      "  LastState-1\n",
      "0         NaN\n",
      "1         NaN\n",
      "2           0\n",
      "3         NaN\n",
      "4         NaN\n",
      "5           1\n",
      "6           2\n",
      "7         NaN \n",
      "\n",
      "   LastState-2\n",
      "0         NaN\n",
      "1         NaN\n",
      "2           0\n",
      "3           1\n",
      "4         NaN\n",
      "5           2\n",
      "6         NaN\n",
      "7         NaN\n"
     ]
    }
   ],
   "source": [
    "df1 = pd.DataFrame.from_dict(\n",
    "    updated_state_dict, \n",
    "    orient='index', \n",
    "    columns=['LastState-1']).sort_index()\n",
    "\n",
    "df2 = pd.DataFrame.from_dict(\n",
    "    updated_state_dict_2, \n",
    "    orient='index', \n",
    "    columns=['LastState-2']).sort_index()\n",
    "\n",
    "print(df1, '\\n\\n', df2)"
   ]
  },
  {
   "attachments": {},
   "cell_type": "markdown",
   "metadata": {},
   "source": [
    "then, we merge these `LastState` columns in the same `comparaisonDf`"
   ]
  },
  {
   "cell_type": "code",
   "execution_count": 41,
   "metadata": {},
   "outputs": [
    {
     "data": {
      "text/html": [
       "<div>\n",
       "<style scoped>\n",
       "    .dataframe tbody tr th:only-of-type {\n",
       "        vertical-align: middle;\n",
       "    }\n",
       "\n",
       "    .dataframe tbody tr th {\n",
       "        vertical-align: top;\n",
       "    }\n",
       "\n",
       "    .dataframe thead th {\n",
       "        text-align: right;\n",
       "    }\n",
       "</style>\n",
       "<table border=\"1\" class=\"dataframe\">\n",
       "  <thead>\n",
       "    <tr style=\"text-align: right;\">\n",
       "      <th></th>\n",
       "      <th>LastState-1</th>\n",
       "      <th>LastState-2</th>\n",
       "    </tr>\n",
       "  </thead>\n",
       "  <tbody>\n",
       "    <tr>\n",
       "      <th>0</th>\n",
       "      <td>NaN</td>\n",
       "      <td>NaN</td>\n",
       "    </tr>\n",
       "    <tr>\n",
       "      <th>1</th>\n",
       "      <td>NaN</td>\n",
       "      <td>NaN</td>\n",
       "    </tr>\n",
       "    <tr>\n",
       "      <th>2</th>\n",
       "      <td>0.0</td>\n",
       "      <td>0.0</td>\n",
       "    </tr>\n",
       "    <tr>\n",
       "      <th>3</th>\n",
       "      <td>NaN</td>\n",
       "      <td>1.0</td>\n",
       "    </tr>\n",
       "    <tr>\n",
       "      <th>4</th>\n",
       "      <td>NaN</td>\n",
       "      <td>NaN</td>\n",
       "    </tr>\n",
       "    <tr>\n",
       "      <th>5</th>\n",
       "      <td>1.0</td>\n",
       "      <td>2.0</td>\n",
       "    </tr>\n",
       "    <tr>\n",
       "      <th>6</th>\n",
       "      <td>2.0</td>\n",
       "      <td>NaN</td>\n",
       "    </tr>\n",
       "    <tr>\n",
       "      <th>7</th>\n",
       "      <td>NaN</td>\n",
       "      <td>NaN</td>\n",
       "    </tr>\n",
       "  </tbody>\n",
       "</table>\n",
       "</div>"
      ],
      "text/plain": [
       "   LastState-1  LastState-2\n",
       "0          NaN          NaN\n",
       "1          NaN          NaN\n",
       "2          0.0          0.0\n",
       "3          NaN          1.0\n",
       "4          NaN          NaN\n",
       "5          1.0          2.0\n",
       "6          2.0          NaN\n",
       "7          NaN          NaN"
      ]
     },
     "execution_count": 41,
     "metadata": {},
     "output_type": "execute_result"
    }
   ],
   "source": [
    "comparaisonDf = df1.join(df2[\"LastState-2\"])\n",
    "comparaisonDf = comparaisonDf.replace('NaN', np.nan)\n",
    "comparaisonDf"
   ]
  },
  {
   "attachments": {},
   "cell_type": "markdown",
   "metadata": {},
   "source": [
    "Now drop the rows corresponding to the epochs that are not present in both eegs"
   ]
  },
  {
   "cell_type": "code",
   "execution_count": 44,
   "metadata": {},
   "outputs": [
    {
     "data": {
      "text/html": [
       "<div>\n",
       "<style scoped>\n",
       "    .dataframe tbody tr th:only-of-type {\n",
       "        vertical-align: middle;\n",
       "    }\n",
       "\n",
       "    .dataframe tbody tr th {\n",
       "        vertical-align: top;\n",
       "    }\n",
       "\n",
       "    .dataframe thead th {\n",
       "        text-align: right;\n",
       "    }\n",
       "</style>\n",
       "<table border=\"1\" class=\"dataframe\">\n",
       "  <thead>\n",
       "    <tr style=\"text-align: right;\">\n",
       "      <th></th>\n",
       "      <th>LastState-1</th>\n",
       "      <th>LastState-2</th>\n",
       "    </tr>\n",
       "  </thead>\n",
       "  <tbody>\n",
       "    <tr>\n",
       "      <th>2</th>\n",
       "      <td>0</td>\n",
       "      <td>0</td>\n",
       "    </tr>\n",
       "    <tr>\n",
       "      <th>5</th>\n",
       "      <td>1</td>\n",
       "      <td>2</td>\n",
       "    </tr>\n",
       "  </tbody>\n",
       "</table>\n",
       "</div>"
      ],
      "text/plain": [
       "   LastState-1  LastState-2\n",
       "2            0            0\n",
       "5            1            2"
      ]
     },
     "execution_count": 44,
     "metadata": {},
     "output_type": "execute_result"
    }
   ],
   "source": [
    "comparaisonDf = comparaisonDf.dropna().astype(int)\n",
    "comparaisonDf"
   ]
  },
  {
   "attachments": {},
   "cell_type": "markdown",
   "metadata": {},
   "source": [
    "This df above now indicates which index have to be sampled to reconstruct the concurrence between the first EEG (`LastState-1`) and the second EEG (`LastState-2`)"
   ]
  },
  {
   "attachments": {},
   "cell_type": "markdown",
   "metadata": {},
   "source": [
    "## Now doing that with the `mne.Epoch` data"
   ]
  },
  {
   "cell_type": "code",
   "execution_count": 61,
   "metadata": {},
   "outputs": [
    {
     "name": "stdout",
     "output_type": "stream",
     "text": [
      "[array(['213',\n",
      "       'FINS_213_Child_FreePlay_Filt_xchan_epochs_rej_prunedICA_rej2.set',\n",
      "       'FINS_213_ADULT_FreePlay_Rej_ICA_rej2.set'], dtype='<U64'), array(['205',\n",
      "       'FINS_205_Child_FreePlay_xchan_epochs_rej_ica pruned_rej3.set',\n",
      "       'FINS_205_Adult_FreePlay_xchan_rej_pruned with ICA_rej2.set'],\n",
      "      dtype='<U64'), array(['217', 'FINS_217_Child_FreePlay_xchan_rej2.set',\n",
      "       'FINS_217_Adult_FreePlay_xchan_rej2.set'], dtype='<U64'), array(['224',\n",
      "       'FINS_224_Child_FreePlay_xchan_epochs_rej_ica _pruned_rej3.set',\n",
      "       'FINS_224_Adult_FreePlay_xchan_epochs_ica_pruned_rej2.set'],\n",
      "      dtype='<U64'), array(['220', 'FINS_220_Child_FreePlay_xchan_rej3.set',\n",
      "       'FINS_220_Adult_FreePlay_xchan_ica_rej3.set'], dtype='<U64'), array(['206', 'FINS_206_Child_FreePlay_xchan_epochs_rej_ica_rej2.set',\n",
      "       'FINS_206_Adult_FreePlay_xchan_epochs_ica_rej3.set'], dtype='<U64'), array(['222', 'FINS_222_Child_FreePlay_xchan_ICA_rej3.set',\n",
      "       'FINS_222_Adult_FreePlay_xchan_ica_rej3.set'], dtype='<U64'), array(['218', 'FINS_218_Child_FreePlay_xchan_rej1_ica_rej2.set',\n",
      "       'FINS_218_Adult_FreePlay_xchan_ica_rej3.set'], dtype='<U64'), array(['207', 'FINS_207_Child_ica_rej3.set',\n",
      "       'FINS_207_Adult_FreePlay_xchan_rej2.set'], dtype='<U64'), array(['201', 'FINS_201_Child_FreePlay_xchan_ica_rej2.set',\n",
      "       'FINS_201_Adult_FreePlay_xchan_rej3.set'], dtype='<U64')]\n"
     ]
    }
   ],
   "source": [
    "print([i for i in dyad])"
   ]
  },
  {
   "attachments": {},
   "cell_type": "markdown",
   "metadata": {},
   "source": [
    "## Trying with Dyad 213"
   ]
  },
  {
   "attachments": {},
   "cell_type": "markdown",
   "metadata": {},
   "source": [
    "### Extract preprocessed epoch ID for both file (i.e., last state)\n",
    "First, let's take our dyad's files and extract their current epoch ID :"
   ]
  },
  {
   "cell_type": "code",
   "execution_count": 5,
   "metadata": {},
   "outputs": [
    {
     "name": "stdout",
     "output_type": "stream",
     "text": [
      "Dyad: 213\n",
      "Child file: FINS_213_Child_FreePlay_Filt_xchan_epochs_rej_prunedICA_rej2.set\n",
      "Adult file: FINS_213_ADULT_FreePlay_Rej_ICA_rej2.set\n"
     ]
    }
   ],
   "source": [
    "# For reference we'll be using \n",
    "print('Dyad: {}\\nChild file: {}\\nAdult file: {}'.format(dy[0], dy[1], dy[2]))"
   ]
  },
  {
   "cell_type": "code",
   "execution_count": 7,
   "metadata": {},
   "outputs": [
    {
     "name": "stdout",
     "output_type": "stream",
     "text": [
      "EEG-child has 325 epochs.\n",
      "EEG-adult has 316 epochs.\n"
     ]
    }
   ],
   "source": [
    "print('EEG-child has {} epochs.'.format(eeg_child.get_data().shape[0]))\n",
    "print('EEG-adult has {} epochs.'.format(eeg_adult.get_data().shape[0]))"
   ]
  },
  {
   "cell_type": "code",
   "execution_count": 6,
   "metadata": {},
   "outputs": [],
   "source": [
    "child_late_state = eeg_child.events[:, 0]\n",
    "adult_late_state = eeg_adult.events[:, 0]"
   ]
  },
  {
   "cell_type": "code",
   "execution_count": 24,
   "metadata": {},
   "outputs": [
    {
     "name": "stdout",
     "output_type": "stream",
     "text": [
      "(316, 18, 500)\n",
      "(2, 18, 500)\n"
     ]
    }
   ],
   "source": [
    "# A way to subset the data\n",
    "\n",
    "tt = eeg_adult.get_data()\n",
    "print(tt.shape)\n",
    "print(tt[[2, 25],:,:].shape)\n"
   ]
  },
  {
   "cell_type": "code",
   "execution_count": 26,
   "metadata": {},
   "outputs": [
    {
     "data": {
      "text/html": [
       "<div>\n",
       "<style scoped>\n",
       "    .dataframe tbody tr th:only-of-type {\n",
       "        vertical-align: middle;\n",
       "    }\n",
       "\n",
       "    .dataframe tbody tr th {\n",
       "        vertical-align: top;\n",
       "    }\n",
       "\n",
       "    .dataframe thead th {\n",
       "        text-align: right;\n",
       "    }\n",
       "</style>\n",
       "<table border=\"1\" class=\"dataframe\">\n",
       "  <thead>\n",
       "    <tr style=\"text-align: right;\">\n",
       "      <th></th>\n",
       "      <th>time</th>\n",
       "      <th>condition</th>\n",
       "      <th>epoch</th>\n",
       "      <th>P7</th>\n",
       "      <th>P4</th>\n",
       "      <th>Cz</th>\n",
       "      <th>Pz</th>\n",
       "      <th>P3</th>\n",
       "      <th>P8</th>\n",
       "      <th>O1</th>\n",
       "      <th>...</th>\n",
       "      <th>T8</th>\n",
       "      <th>F8</th>\n",
       "      <th>C4</th>\n",
       "      <th>Fp2</th>\n",
       "      <th>Fz</th>\n",
       "      <th>F3</th>\n",
       "      <th>Fp1</th>\n",
       "      <th>T7</th>\n",
       "      <th>F7</th>\n",
       "      <th>Oz</th>\n",
       "    </tr>\n",
       "  </thead>\n",
       "  <tbody>\n",
       "    <tr>\n",
       "      <th>0</th>\n",
       "      <td>0</td>\n",
       "      <td>1/1</td>\n",
       "      <td>0</td>\n",
       "      <td>-12.439453</td>\n",
       "      <td>1.142805</td>\n",
       "      <td>-10.955218</td>\n",
       "      <td>-9.090399</td>\n",
       "      <td>-11.991937</td>\n",
       "      <td>-30.485649</td>\n",
       "      <td>3.634571</td>\n",
       "      <td>...</td>\n",
       "      <td>0.020473</td>\n",
       "      <td>14.368764</td>\n",
       "      <td>-1.154086</td>\n",
       "      <td>22.301815</td>\n",
       "      <td>0.223805</td>\n",
       "      <td>5.535477</td>\n",
       "      <td>18.833206</td>\n",
       "      <td>3.650221</td>\n",
       "      <td>10.648489</td>\n",
       "      <td>-18.540926</td>\n",
       "    </tr>\n",
       "    <tr>\n",
       "      <th>1</th>\n",
       "      <td>2</td>\n",
       "      <td>1/1</td>\n",
       "      <td>0</td>\n",
       "      <td>-4.765141</td>\n",
       "      <td>5.739458</td>\n",
       "      <td>-3.855807</td>\n",
       "      <td>-3.456626</td>\n",
       "      <td>-6.451349</td>\n",
       "      <td>-23.083595</td>\n",
       "      <td>8.091072</td>\n",
       "      <td>...</td>\n",
       "      <td>2.895975</td>\n",
       "      <td>14.504980</td>\n",
       "      <td>3.621101</td>\n",
       "      <td>25.967552</td>\n",
       "      <td>6.214095</td>\n",
       "      <td>12.386865</td>\n",
       "      <td>26.934822</td>\n",
       "      <td>9.801796</td>\n",
       "      <td>18.559805</td>\n",
       "      <td>-12.466508</td>\n",
       "    </tr>\n",
       "    <tr>\n",
       "      <th>2</th>\n",
       "      <td>4</td>\n",
       "      <td>1/1</td>\n",
       "      <td>0</td>\n",
       "      <td>2.324517</td>\n",
       "      <td>9.967653</td>\n",
       "      <td>2.769588</td>\n",
       "      <td>1.917543</td>\n",
       "      <td>-1.405067</td>\n",
       "      <td>-15.273561</td>\n",
       "      <td>12.402609</td>\n",
       "      <td>...</td>\n",
       "      <td>5.515651</td>\n",
       "      <td>14.327770</td>\n",
       "      <td>8.039848</td>\n",
       "      <td>28.897728</td>\n",
       "      <td>11.563794</td>\n",
       "      <td>18.410034</td>\n",
       "      <td>33.790066</td>\n",
       "      <td>14.822166</td>\n",
       "      <td>24.956415</td>\n",
       "      <td>-6.494979</td>\n",
       "    </tr>\n",
       "    <tr>\n",
       "      <th>3</th>\n",
       "      <td>6</td>\n",
       "      <td>1/1</td>\n",
       "      <td>0</td>\n",
       "      <td>8.252581</td>\n",
       "      <td>13.506267</td>\n",
       "      <td>8.431911</td>\n",
       "      <td>6.629643</td>\n",
       "      <td>2.741567</td>\n",
       "      <td>-7.630542</td>\n",
       "      <td>16.221558</td>\n",
       "      <td>...</td>\n",
       "      <td>7.723204</td>\n",
       "      <td>13.943891</td>\n",
       "      <td>11.783163</td>\n",
       "      <td>30.919964</td>\n",
       "      <td>15.879862</td>\n",
       "      <td>23.123606</td>\n",
       "      <td>38.867527</td>\n",
       "      <td>18.301508</td>\n",
       "      <td>29.335447</td>\n",
       "      <td>-1.113773</td>\n",
       "    </tr>\n",
       "    <tr>\n",
       "      <th>4</th>\n",
       "      <td>8</td>\n",
       "      <td>1/1</td>\n",
       "      <td>0</td>\n",
       "      <td>12.604696</td>\n",
       "      <td>16.127539</td>\n",
       "      <td>12.772361</td>\n",
       "      <td>10.372193</td>\n",
       "      <td>5.718551</td>\n",
       "      <td>-0.704463</td>\n",
       "      <td>19.274471</td>\n",
       "      <td>...</td>\n",
       "      <td>9.423502</td>\n",
       "      <td>13.495095</td>\n",
       "      <td>14.622331</td>\n",
       "      <td>31.981352</td>\n",
       "      <td>18.906019</td>\n",
       "      <td>26.218401</td>\n",
       "      <td>41.866360</td>\n",
       "      <td>20.046278</td>\n",
       "      <td>31.476065</td>\n",
       "      <td>3.269217</td>\n",
       "    </tr>\n",
       "    <tr>\n",
       "      <th>...</th>\n",
       "      <td>...</td>\n",
       "      <td>...</td>\n",
       "      <td>...</td>\n",
       "      <td>...</td>\n",
       "      <td>...</td>\n",
       "      <td>...</td>\n",
       "      <td>...</td>\n",
       "      <td>...</td>\n",
       "      <td>...</td>\n",
       "      <td>...</td>\n",
       "      <td>...</td>\n",
       "      <td>...</td>\n",
       "      <td>...</td>\n",
       "      <td>...</td>\n",
       "      <td>...</td>\n",
       "      <td>...</td>\n",
       "      <td>...</td>\n",
       "      <td>...</td>\n",
       "      <td>...</td>\n",
       "      <td>...</td>\n",
       "      <td>...</td>\n",
       "    </tr>\n",
       "    <tr>\n",
       "      <th>157995</th>\n",
       "      <td>990</td>\n",
       "      <td>1</td>\n",
       "      <td>315</td>\n",
       "      <td>-1.366750</td>\n",
       "      <td>7.029265</td>\n",
       "      <td>-4.048895</td>\n",
       "      <td>-2.119711</td>\n",
       "      <td>-4.755799</td>\n",
       "      <td>-4.839591</td>\n",
       "      <td>-1.023677</td>\n",
       "      <td>...</td>\n",
       "      <td>3.815301</td>\n",
       "      <td>14.752668</td>\n",
       "      <td>4.161595</td>\n",
       "      <td>18.244930</td>\n",
       "      <td>4.128047</td>\n",
       "      <td>-0.319883</td>\n",
       "      <td>11.547513</td>\n",
       "      <td>-1.165699</td>\n",
       "      <td>-2.215918</td>\n",
       "      <td>-4.001302</td>\n",
       "    </tr>\n",
       "    <tr>\n",
       "      <th>157996</th>\n",
       "      <td>992</td>\n",
       "      <td>1</td>\n",
       "      <td>315</td>\n",
       "      <td>-0.486478</td>\n",
       "      <td>8.446573</td>\n",
       "      <td>-1.672904</td>\n",
       "      <td>-0.127561</td>\n",
       "      <td>-3.604706</td>\n",
       "      <td>-2.074218</td>\n",
       "      <td>0.833252</td>\n",
       "      <td>...</td>\n",
       "      <td>4.849911</td>\n",
       "      <td>16.060059</td>\n",
       "      <td>5.983804</td>\n",
       "      <td>21.306108</td>\n",
       "      <td>6.438555</td>\n",
       "      <td>2.049780</td>\n",
       "      <td>15.068205</td>\n",
       "      <td>-1.245648</td>\n",
       "      <td>-1.403956</td>\n",
       "      <td>-2.479939</td>\n",
       "    </tr>\n",
       "    <tr>\n",
       "      <th>157997</th>\n",
       "      <td>994</td>\n",
       "      <td>1</td>\n",
       "      <td>315</td>\n",
       "      <td>0.806278</td>\n",
       "      <td>10.377870</td>\n",
       "      <td>1.189085</td>\n",
       "      <td>2.308568</td>\n",
       "      <td>-2.192944</td>\n",
       "      <td>1.534577</td>\n",
       "      <td>2.955684</td>\n",
       "      <td>...</td>\n",
       "      <td>6.201814</td>\n",
       "      <td>17.504497</td>\n",
       "      <td>8.254701</td>\n",
       "      <td>24.437096</td>\n",
       "      <td>9.092056</td>\n",
       "      <td>4.572440</td>\n",
       "      <td>18.706781</td>\n",
       "      <td>-1.091839</td>\n",
       "      <td>-0.516623</td>\n",
       "      <td>-0.494205</td>\n",
       "    </tr>\n",
       "    <tr>\n",
       "      <th>157998</th>\n",
       "      <td>996</td>\n",
       "      <td>1</td>\n",
       "      <td>315</td>\n",
       "      <td>2.352508</td>\n",
       "      <td>12.650732</td>\n",
       "      <td>4.281524</td>\n",
       "      <td>4.976461</td>\n",
       "      <td>-0.643294</td>\n",
       "      <td>5.621661</td>\n",
       "      <td>5.159948</td>\n",
       "      <td>...</td>\n",
       "      <td>7.724286</td>\n",
       "      <td>18.930176</td>\n",
       "      <td>10.771629</td>\n",
       "      <td>27.353302</td>\n",
       "      <td>11.841879</td>\n",
       "      <td>7.024847</td>\n",
       "      <td>22.128534</td>\n",
       "      <td>-0.782283</td>\n",
       "      <td>0.286296</td>\n",
       "      <td>1.788580</td>\n",
       "    </tr>\n",
       "    <tr>\n",
       "      <th>157999</th>\n",
       "      <td>998</td>\n",
       "      <td>1</td>\n",
       "      <td>315</td>\n",
       "      <td>3.972900</td>\n",
       "      <td>15.073704</td>\n",
       "      <td>7.332636</td>\n",
       "      <td>7.655817</td>\n",
       "      <td>0.920796</td>\n",
       "      <td>9.785127</td>\n",
       "      <td>7.277909</td>\n",
       "      <td>...</td>\n",
       "      <td>9.257370</td>\n",
       "      <td>20.177862</td>\n",
       "      <td>13.316250</td>\n",
       "      <td>29.781654</td>\n",
       "      <td>14.429018</td>\n",
       "      <td>9.189699</td>\n",
       "      <td>25.007076</td>\n",
       "      <td>-0.413295</td>\n",
       "      <td>0.841330</td>\n",
       "      <td>4.184291</td>\n",
       "    </tr>\n",
       "  </tbody>\n",
       "</table>\n",
       "<p>158000 rows × 21 columns</p>\n",
       "</div>"
      ],
      "text/plain": [
       "        time condition  epoch         P7         P4         Cz         Pz  \\\n",
       "0          0       1/1      0 -12.439453   1.142805 -10.955218  -9.090399   \n",
       "1          2       1/1      0  -4.765141   5.739458  -3.855807  -3.456626   \n",
       "2          4       1/1      0   2.324517   9.967653   2.769588   1.917543   \n",
       "3          6       1/1      0   8.252581  13.506267   8.431911   6.629643   \n",
       "4          8       1/1      0  12.604696  16.127539  12.772361  10.372193   \n",
       "...      ...       ...    ...        ...        ...        ...        ...   \n",
       "157995   990         1    315  -1.366750   7.029265  -4.048895  -2.119711   \n",
       "157996   992         1    315  -0.486478   8.446573  -1.672904  -0.127561   \n",
       "157997   994         1    315   0.806278  10.377870   1.189085   2.308568   \n",
       "157998   996         1    315   2.352508  12.650732   4.281524   4.976461   \n",
       "157999   998         1    315   3.972900  15.073704   7.332636   7.655817   \n",
       "\n",
       "               P3         P8         O1  ...        T8         F8         C4  \\\n",
       "0      -11.991937 -30.485649   3.634571  ...  0.020473  14.368764  -1.154086   \n",
       "1       -6.451349 -23.083595   8.091072  ...  2.895975  14.504980   3.621101   \n",
       "2       -1.405067 -15.273561  12.402609  ...  5.515651  14.327770   8.039848   \n",
       "3        2.741567  -7.630542  16.221558  ...  7.723204  13.943891  11.783163   \n",
       "4        5.718551  -0.704463  19.274471  ...  9.423502  13.495095  14.622331   \n",
       "...           ...        ...        ...  ...       ...        ...        ...   \n",
       "157995  -4.755799  -4.839591  -1.023677  ...  3.815301  14.752668   4.161595   \n",
       "157996  -3.604706  -2.074218   0.833252  ...  4.849911  16.060059   5.983804   \n",
       "157997  -2.192944   1.534577   2.955684  ...  6.201814  17.504497   8.254701   \n",
       "157998  -0.643294   5.621661   5.159948  ...  7.724286  18.930176  10.771629   \n",
       "157999   0.920796   9.785127   7.277909  ...  9.257370  20.177862  13.316250   \n",
       "\n",
       "              Fp2         Fz         F3        Fp1         T7         F7  \\\n",
       "0       22.301815   0.223805   5.535477  18.833206   3.650221  10.648489   \n",
       "1       25.967552   6.214095  12.386865  26.934822   9.801796  18.559805   \n",
       "2       28.897728  11.563794  18.410034  33.790066  14.822166  24.956415   \n",
       "3       30.919964  15.879862  23.123606  38.867527  18.301508  29.335447   \n",
       "4       31.981352  18.906019  26.218401  41.866360  20.046278  31.476065   \n",
       "...           ...        ...        ...        ...        ...        ...   \n",
       "157995  18.244930   4.128047  -0.319883  11.547513  -1.165699  -2.215918   \n",
       "157996  21.306108   6.438555   2.049780  15.068205  -1.245648  -1.403956   \n",
       "157997  24.437096   9.092056   4.572440  18.706781  -1.091839  -0.516623   \n",
       "157998  27.353302  11.841879   7.024847  22.128534  -0.782283   0.286296   \n",
       "157999  29.781654  14.429018   9.189699  25.007076  -0.413295   0.841330   \n",
       "\n",
       "               Oz  \n",
       "0      -18.540926  \n",
       "1      -12.466508  \n",
       "2       -6.494979  \n",
       "3       -1.113773  \n",
       "4        3.269217  \n",
       "...           ...  \n",
       "157995  -4.001302  \n",
       "157996  -2.479939  \n",
       "157997  -0.494205  \n",
       "157998   1.788580  \n",
       "157999   4.184291  \n",
       "\n",
       "[158000 rows x 21 columns]"
      ]
     },
     "execution_count": 26,
     "metadata": {},
     "output_type": "execute_result"
    }
   ],
   "source": [
    "eeg_adult.to_data_frame()"
   ]
  },
  {
   "attachments": {},
   "cell_type": "markdown",
   "metadata": {},
   "source": [
    "Get the `last state ID` of the adult and child's EEG epochs:"
   ]
  },
  {
   "cell_type": "code",
   "execution_count": 29,
   "metadata": {},
   "outputs": [],
   "source": [
    "epo_id_adult = [epoch_idx for epoch_idx, _ in enumerate(eeg_adult)]\n",
    "epo_id_child = [epoch_idx for epoch_idx, _ in enumerate(eeg_child)]"
   ]
  },
  {
   "attachments": {},
   "cell_type": "markdown",
   "metadata": {},
   "source": [
    "Define the list of list showing which epochs were removed at each round:"
   ]
  },
  {
   "cell_type": "code",
   "execution_count": 31,
   "metadata": {},
   "outputs": [
    {
     "name": "stdout",
     "output_type": "stream",
     "text": [
      "[17, 25, 26, 31, 36, 37, 41, 42, 43, 50, 51, 83, 84, 116, 117, 152, 153, 156, 157, 158, 163, 164, 165, 171, 231, 232, 244, 245, 247, 248, 253, 254, 255, 261, 268, 269, 270, 271, 272, 306, 307, 310, 311, 314, 316, 318, 319, 320, 335, 338, 339, 371, 379, 380]\n"
     ]
    }
   ],
   "source": [
    "def make_list_from_text(unformated_list):\n",
    "    \"\"\"\n",
    "    Return a flattened list of integers from a str formated as:\n",
    "    '1 3 24:27 234' --> [1, 3, 24, 25, 26, 27, 234].\n",
    "    \"\"\"\n",
    "    tmp = []\n",
    "    for item in [i for i in unformated_list.split(' ')] :\n",
    "        if ':' in item:\n",
    "            start, end = item.split(':')\n",
    "            tmp += list(range(int(start), int(end)+1))\n",
    "        else:\n",
    "            tmp.append(int(item))\n",
    "    return tmp"
   ]
  },
  {
   "cell_type": "code",
   "execution_count": 62,
   "metadata": {},
   "outputs": [],
   "source": [
    "round1_child = make_list_from_text('17 25 26 31 36 37 41 42 43 50 51 83 84 116 117 152 153 156 157 158 163 164 165 171 231 232 244 245 247 248 253 254 255 261 268 269:272 306 307 310 311 314 316 318 319 320 335 338 339 371 379 380')\n",
    "round2_child = make_list_from_text('135 137 147 148:150 159 194 211 223 226 227 288 310 314 319 325 341 342')\n",
    "child_rej = [round1_child, round2_child]\n",
    "total_rej_child = len(round1_child) + len(round2_child)\n",
    "\n",
    "# round1_adult = make_list_from_text('9 10 58 60 61:63 76 78 79 80 83 84 85 90 103 104 105 112 114 115 132 133:135 153 155 156 173 174 182 226 227 248 249 250 253 257 259:263 342 348 356 357 363 364:367 370 383 391 393')\n",
    "round1_adult = make_list_from_text('9 10 58 60 61:63 76 78 79 80 83 84 85 90 103 104 105 112 114 115 132 133:135 153 155 156 173 174 182 226 227 248 249 250 253 257 259 263 342 348 356 357 363 364:367 370 383 391 393')\n",
    "round2_adult = make_list_from_text('2 9 10 11 33 46 50 60 68 76 101 103 128 139 142 145 187 192 222 223 319 321 322 323 325 331 335 343')\n",
    "adult_rej = [round1_adult, round2_adult]\n",
    "c = len(round1_adult) + len(round2_adult)"
   ]
  },
  {
   "cell_type": "code",
   "execution_count": 52,
   "metadata": {},
   "outputs": [
    {
     "ename": "AssertionError",
     "evalue": "there is an issue with the total amount of epochs\nChild would have 398 total while Adult would have 397",
     "output_type": "error",
     "traceback": [
      "\u001b[0;31m---------------------------------------------------------------------------\u001b[0m",
      "\u001b[0;31mAssertionError\u001b[0m                            Traceback (most recent call last)",
      "\u001b[1;32m/Users/zoubou/Documents/Work/NYU/Brito-Lab/FINS-Codes/realigne-eeg-streams.ipynb Cell 56\u001b[0m in \u001b[0;36m<cell line: 1>\u001b[0;34m()\u001b[0m\n\u001b[0;32m----> <a href='vscode-notebook-cell:/Users/zoubou/Documents/Work/NYU/Brito-Lab/FINS-Codes/realigne-eeg-streams.ipynb#Y122sZmlsZQ%3D%3D?line=0'>1</a>\u001b[0m \u001b[39massert\u001b[39;00m eeg_child\u001b[39m.\u001b[39mget_data()\u001b[39m.\u001b[39mshape[\u001b[39m0\u001b[39m] \u001b[39m+\u001b[39m total_rej_child \u001b[39m==\u001b[39m eeg_adult\u001b[39m.\u001b[39mget_data()\u001b[39m.\u001b[39mshape[\u001b[39m0\u001b[39m] \u001b[39m+\u001b[39m total_rej_adult, \u001b[39m'\u001b[39m\u001b[39mthere is an issue with the total amount of epochs\u001b[39m\u001b[39m\\n\u001b[39;00m\u001b[39mChild would have \u001b[39m\u001b[39m{}\u001b[39;00m\u001b[39m total while Adult would have \u001b[39m\u001b[39m{}\u001b[39;00m\u001b[39m'\u001b[39m\u001b[39m.\u001b[39mformat(\n\u001b[1;32m      <a href='vscode-notebook-cell:/Users/zoubou/Documents/Work/NYU/Brito-Lab/FINS-Codes/realigne-eeg-streams.ipynb#Y122sZmlsZQ%3D%3D?line=1'>2</a>\u001b[0m     total_rej_child \u001b[39m+\u001b[39meeg_child\u001b[39m.\u001b[39mget_data()\u001b[39m.\u001b[39mshape[\u001b[39m0\u001b[39m], total_rej_adult\u001b[39m+\u001b[39meeg_adult\u001b[39m.\u001b[39mget_data()\u001b[39m.\u001b[39mshape[\u001b[39m0\u001b[39m]\n\u001b[1;32m      <a href='vscode-notebook-cell:/Users/zoubou/Documents/Work/NYU/Brito-Lab/FINS-Codes/realigne-eeg-streams.ipynb#Y122sZmlsZQ%3D%3D?line=2'>3</a>\u001b[0m )\n",
      "\u001b[0;31mAssertionError\u001b[0m: there is an issue with the total amount of epochs\nChild would have 398 total while Adult would have 397"
     ]
    }
   ],
   "source": [
    "assert eeg_child.get_data().shape[0] + total_rej_child == eeg_adult.get_data().shape[0] + total_rej_adult, 'there is an issue with the total amount of epochs\\nChild would have {} total while Adult would have {}'.format(\n",
    "    total_rej_child +eeg_child.get_data().shape[0], total_rej_adult+eeg_adult.get_data().shape[0]\n",
    ")"
   ]
  },
  {
   "attachments": {},
   "cell_type": "markdown",
   "metadata": {},
   "source": [
    "### Let's try with another one (dyad 205)"
   ]
  },
  {
   "cell_type": "code",
   "execution_count": 54,
   "metadata": {},
   "outputs": [
    {
     "name": "stdout",
     "output_type": "stream",
     "text": [
      "Dyad: 205\n",
      "Child file: FINS_205_Child_FreePlay_xchan_epochs_rej_ica pruned_rej3.set\n",
      "Adult file: FINS_205_Adult_FreePlay_xchan_rej_pruned with ICA_rej2.set\n"
     ]
    }
   ],
   "source": [
    "dy = dyad[1]\n",
    "print('Dyad: {}\\nChild file: {}\\nAdult file: {}'.format(dy[0], dy[1], dy[2]))"
   ]
  },
  {
   "cell_type": "code",
   "execution_count": 55,
   "metadata": {},
   "outputs": [
    {
     "name": "stdout",
     "output_type": "stream",
     "text": [
      "Extracting parameters from /Users/zoubou/Documents/Work/NYU/Brito-Lab/FINS-Codes/../FINS-data/205_child_FP/FINS_205_Child_FreePlay_xchan_epochs_rej_ica pruned_rej3.set...\n",
      "Not setting metadata\n",
      "251 matching events found\n",
      "No baseline correction applied\n",
      "0 projection items activated\n",
      "Ready.\n",
      "Reading /var/folders/vv/stc9rswn5c95vxdzpx7z6qqr0000gn/T/tmp9ukp09lltmp.fif ...\n"
     ]
    },
    {
     "name": "stderr",
     "output_type": "stream",
     "text": [
      "/Users/zoubou/Documents/Work/NYU/Brito-Lab/FINS-Codes/utils/align_utils.py:29: RuntimeWarning: At least one epoch has multiple events. Only the latency of the first event will be retained.\n",
      "  tmp = mne.io.read_epochs_eeglab(path)\n",
      "/Users/zoubou/Documents/Work/NYU/Brito-Lab/FINS-Codes/utils/align_utils.py:33: RuntimeWarning: This filename (/var/folders/vv/stc9rswn5c95vxdzpx7z6qqr0000gn/T/tmp9ukp09lltmp.fif) does not conform to MNE naming conventions. All epochs files should end with -epo.fif, -epo.fif.gz, _epo.fif or _epo.fif.gz\n",
      "  tmp.save(tmpdir+\"tmp.fif\", overwrite=True, verbose=None)\n",
      "/Users/zoubou/Documents/Work/NYU/Brito-Lab/FINS-Codes/utils/align_utils.py:36: RuntimeWarning: This filename (/var/folders/vv/stc9rswn5c95vxdzpx7z6qqr0000gn/T/tmp9ukp09lltmp.fif) does not conform to MNE naming conventions. All epochs files should end with -epo.fif, -epo.fif.gz, _epo.fif or _epo.fif.gz\n",
      "  return mne.read_epochs(tmpdir+\"tmp.fif\")\n"
     ]
    },
    {
     "name": "stdout",
     "output_type": "stream",
     "text": [
      "    Found the data of interest:\n",
      "        t =       0.00 ...     998.00 ms\n",
      "        0 CTF compensation matrices available\n",
      "0 bad epochs dropped\n",
      "Not setting metadata\n",
      "251 matching events found\n",
      "No baseline correction applied\n",
      "0 projection items activated\n",
      "Extracting parameters from /Users/zoubou/Documents/Work/NYU/Brito-Lab/FINS-Codes/../FINS-data/205_adult_FP/FINS_205_Adult_FreePlay_xchan_rej_pruned with ICA_rej2.set...\n",
      "Not setting metadata\n",
      "147 matching events found\n",
      "No baseline correction applied\n",
      "0 projection items activated\n",
      "Ready.\n",
      "Reading /var/folders/vv/stc9rswn5c95vxdzpx7z6qqr0000gn/T/tmporwyrm6ltmp.fif ...\n",
      "    Found the data of interest:\n",
      "        t =       0.00 ...     998.00 ms\n",
      "        0 CTF compensation matrices available\n",
      "0 bad epochs dropped\n",
      "Not setting metadata\n",
      "147 matching events found\n",
      "No baseline correction applied\n",
      "0 projection items activated\n"
     ]
    },
    {
     "name": "stderr",
     "output_type": "stream",
     "text": [
      "/Users/zoubou/Documents/Work/NYU/Brito-Lab/FINS-Codes/utils/align_utils.py:29: RuntimeWarning: At least one epoch has multiple events. Only the latency of the first event will be retained.\n",
      "  tmp = mne.io.read_epochs_eeglab(path)\n",
      "/Users/zoubou/Documents/Work/NYU/Brito-Lab/FINS-Codes/utils/align_utils.py:33: RuntimeWarning: This filename (/var/folders/vv/stc9rswn5c95vxdzpx7z6qqr0000gn/T/tmporwyrm6ltmp.fif) does not conform to MNE naming conventions. All epochs files should end with -epo.fif, -epo.fif.gz, _epo.fif or _epo.fif.gz\n",
      "  tmp.save(tmpdir+\"tmp.fif\", overwrite=True, verbose=None)\n",
      "/Users/zoubou/Documents/Work/NYU/Brito-Lab/FINS-Codes/utils/align_utils.py:36: RuntimeWarning: This filename (/var/folders/vv/stc9rswn5c95vxdzpx7z6qqr0000gn/T/tmporwyrm6ltmp.fif) does not conform to MNE naming conventions. All epochs files should end with -epo.fif, -epo.fif.gz, _epo.fif or _epo.fif.gz\n",
      "  return mne.read_epochs(tmpdir+\"tmp.fif\")\n"
     ]
    }
   ],
   "source": [
    "eeg_child = align_utils.EpochsEEGLAB_to_mneEpochsFIF('{}{}_{}_FP/{}'.format(data_path, dy[0], 'child', dy[1])) \n",
    "eeg_adult = align_utils.EpochsEEGLAB_to_mneEpochsFIF('{}{}_{}_FP/{}'.format(data_path, dy[0], 'adult', dy[2]))"
   ]
  },
  {
   "cell_type": "code",
   "execution_count": 56,
   "metadata": {},
   "outputs": [
    {
     "name": "stdout",
     "output_type": "stream",
     "text": [
      "EEG-child has 251 epochs.\n",
      "EEG-adult has 147 epochs.\n"
     ]
    }
   ],
   "source": [
    "print('EEG-child has {} epochs.'.format(eeg_child.get_data().shape[0]))\n",
    "print('EEG-adult has {} epochs.'.format(eeg_adult.get_data().shape[0]))"
   ]
  },
  {
   "attachments": {},
   "cell_type": "markdown",
   "metadata": {},
   "source": [
    "Now creating the updated dictionnary"
   ]
  },
  {
   "cell_type": "code",
   "execution_count": 50,
   "metadata": {},
   "outputs": [
    {
     "name": "stdout",
     "output_type": "stream",
     "text": [
      "398\n",
      "403\n"
     ]
    }
   ],
   "source": [
    "child_state_dict = align_utils.revert_to_original_idx(\n",
    "    last_state = epo_id_child,\n",
    "    removed_list  = child_rej,\n",
    "    verbose    = False)\n",
    "# print(child_state_dict)\n",
    "print(len(child_state_dict.keys()))\n",
    "\n",
    "adult_state_dict = align_utils.revert_to_original_idx(\n",
    "    last_state = epo_id_adult,\n",
    "    removed_list  = adult_rej,\n",
    "    verbose    = False)\n",
    "# print(adult_state_dict)\n",
    "print(len(adult_state_dict.keys()))"
   ]
  },
  {
   "attachments": {},
   "cell_type": "markdown",
   "metadata": {},
   "source": [
    "# Notes"
   ]
  },
  {
   "attachments": {},
   "cell_type": "markdown",
   "metadata": {},
   "source": [
    "Dyad 213 does not have the same amout of epoch i.e., sum(epochs, rej1, rej2, rej3)\n",
    "Dyad 205 is intialy not equilibrated "
   ]
  },
  {
   "attachments": {},
   "cell_type": "markdown",
   "metadata": {},
   "source": [
    "# Useful references"
   ]
  },
  {
   "attachments": {},
   "cell_type": "markdown",
   "metadata": {},
   "source": [
    "- To get comfortable with the MNE documentation, you should know that MNE is based on python [Object Oriented Programming (00P)](hstate_dictps://realpython.com/python3-object-oriented-programming/). These objects are defined from a python `Class`.\n",
    "    - You can get familiarized with the OOP structure and its componenent, e.g. `methods` (a function associated to the the object) and `astate_dictribute` (a variable associated to the object), wit [this tutorial](hstate_dictps://www.datacamp.com/tutorial/python-oop-tutorial).\n",
    "    - In MNE, we find [`Raw` objects](hstate_dictps://mne.tools/stable/generated/mne.io.Raw.html) (continuous data) or [`Epoch` objects](hstate_dictps://mne.tools/stable/generated/mne.Epochs.html) (a collection of epochs). \n",
    "\n",
    "You can find an introduction to the **Epochs data structure** [here](hstate_dictps://mne.tools/stable/auto_tutorials/epochs/10_epochs_overview.html) in MNE. "
   ]
  },
  {
   "attachments": {},
   "cell_type": "markdown",
   "metadata": {},
   "source": [
    "### Extracting the epoch data\n",
    "\n",
    "We're now going to extract the epoch data from the mne.EpochFIF to apply the operation described above."
   ]
  },
  {
   "cell_type": "code",
   "execution_count": 67,
   "metadata": {},
   "outputs": [
    {
     "data": {
      "text/plain": [
       "[array(['213',\n",
       "        'FINS_213_Child_FreePlay_Filt_xchan_epochs_rej_prunedICA_rej2.set',\n",
       "        'FINS_213_ADULT_FreePlay_Rej_ICA_rej2.set'], dtype='<U64'),\n",
       " array(['205',\n",
       "        'FINS_205_Child_FreePlay_xchan_epochs_rej_ica pruned_rej3.set',\n",
       "        'FINS_205_Adult_FreePlay_xchan_rej_pruned with ICA_rej2.set'],\n",
       "       dtype='<U64'),\n",
       " array(['217', 'FINS_217_Child_FreePlay_xchan_rej2.set',\n",
       "        'FINS_217_Adult_FreePlay_xchan_rej2.set'], dtype='<U64'),\n",
       " array(['224',\n",
       "        'FINS_224_Child_FreePlay_xchan_epochs_rej_ica _pruned_rej3.set',\n",
       "        'FINS_224_Adult_FreePlay_xchan_epochs_ica_pruned_rej2.set'],\n",
       "       dtype='<U64'),\n",
       " array(['220', 'FINS_220_Child_FreePlay_xchan_rej3.set',\n",
       "        'FINS_220_Adult_FreePlay_xchan_ica_rej3.set'], dtype='<U64'),\n",
       " array(['206', 'FINS_206_Child_FreePlay_xchan_epochs_rej_ica_rej2.set',\n",
       "        'FINS_206_Adult_FreePlay_xchan_epochs_ica_rej3.set'], dtype='<U64'),\n",
       " array(['222', 'FINS_222_Child_FreePlay_xchan_ICA_rej3.set',\n",
       "        'FINS_222_Adult_FreePlay_xchan_ica_rej3.set'], dtype='<U64'),\n",
       " array(['218', 'FINS_218_Child_FreePlay_xchan_rej1_ica_rej2.set',\n",
       "        'FINS_218_Adult_FreePlay_xchan_ica_rej3.set'], dtype='<U64'),\n",
       " array(['207', 'FINS_207_Child_ica_rej3.set',\n",
       "        'FINS_207_Adult_FreePlay_xchan_rej2.set'], dtype='<U64'),\n",
       " array(['201', 'FINS_201_Child_FreePlay_xchan_ica_rej2.set',\n",
       "        'FINS_201_Adult_FreePlay_xchan_rej3.set'], dtype='<U64')]"
      ]
     },
     "execution_count": 67,
     "metadata": {},
     "output_type": "execute_result"
    }
   ],
   "source": [
    "dyad"
   ]
  },
  {
   "cell_type": "markdown",
   "metadata": {},
   "source": []
  }
 ],
 "metadata": {
  "kernelspec": {
   "display_name": "Python 3.8.8",
   "language": "python",
   "name": "python3"
  },
  "language_info": {
   "codemirror_mode": {
    "name": "ipython",
    "version": 3
   },
   "file_extension": ".py",
   "mimetype": "text/x-python",
   "name": "python",
   "nbconvert_exporter": "python",
   "pygments_lexer": "ipython3",
   "version": "3.8.8"
  },
  "orig_nbformat": 4,
  "vscode": {
   "interpreter": {
    "hash": "9d93afb8cdc34b2bdea5bf079bccd93013ea04d457e334f9ae90fb664fbdee86"
   }
  }
 },
 "nbformat": 4,
 "nbformat_minor": 2
}
