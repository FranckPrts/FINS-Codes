{
 "cells": [
  {
   "cell_type": "markdown",
   "metadata": {},
   "source": [
    "# Realign two EEGLab.Epoch object's epochs.\n",
    "\n",
    "@Author [@FranckPrts](https://github.com/FranckPrts).\n",
    "\n",
    "Here we attempt to provide a python-based solution to the following question: **How to can I realign concurrent epochs from two epoched object?**\n",
    "\n",
    "Our main goal here is to be able to target all epochs in a given EEG that doesn't have a *sister* (concurently recorded) epoch in the other EEG because it was rejected by preprocessing. At the end, we should have two epoched EEG with the same amount of epochs and where each pair of epoch has their *sister* epoch at the same index.\n",
    "\n",
    "Fist, the EEG data of each participant was segmented in 1sec epochs before moving on to preprocessing independelty each two EEG data. For each stage of this iterative process (in our case 2-3 iterations) the ID of the rejected epochs were noted in a separate file.\n",
    "\n",
    "Our issue arise from the fact that once each step was performed, saving the data would lead to losing track of what was the epochs original IDs. \n",
    "As exemplified below: "
   ]
  },
  {
   "cell_type": "markdown",
   "metadata": {},
   "source": [
    "#IMAGE"
   ]
  },
  {
   "cell_type": "markdown",
   "metadata": {},
   "source": [
    "In that process we see that an epoch that originally had the ID #6 can end up with the new ID #3. \n",
    "\n",
    "To retrieve the original id of the epoch, we will have to work bakward from the last iteration of preprocessing to the first iteration. At each step we will store what was the previous ID of the epochs so we can find their original IDs. "
   ]
  },
  {
   "attachments": {},
   "cell_type": "markdown",
   "metadata": {},
   "source": [
    "## Imports"
   ]
  },
  {
   "cell_type": "code",
   "execution_count": 54,
   "metadata": {},
   "outputs": [],
   "source": [
    "# Package \n",
    "import mne\n",
    "import numpy as np\n",
    "import pandas as pd\n",
    "import tempfile\n",
    "\n",
    "# Custom functions\n",
    "import utils"
   ]
  },
  {
   "cell_type": "markdown",
   "metadata": {},
   "source": [
    "We import two eeg stream that were preprocessed in MATLAB"
   ]
  },
  {
   "cell_type": "code",
   "execution_count": 55,
   "metadata": {},
   "outputs": [],
   "source": [
    "def EpochsEEGLAB_to_mneEpochs (path):\n",
    "    \"\"\"\n",
    "    Loads a SET file into a mne.io.eeglab.eeglab.EpochsEEGLAB object\n",
    "    and converts it into a mne.Epochs instance.\n",
    "\n",
    "    Arguments\n",
    "    ----------\n",
    "    path: str\n",
    "        participant #1 fNIRS data path (directory)\n",
    "\n",
    "    Returns\n",
    "    --------\n",
    "    mneEpochs:\n",
    "        instance of mne.Epochs.\n",
    "    \"\"\"\n",
    "    # read the file and get a mne.io.eeglab.eeglab.EpochsEEGLAB instance\n",
    "    tmp = mne.io.read_epochs_eeglab(path)\n",
    "\n",
    "    with tempfile.TemporaryDirectory() as tmpdir:\n",
    "\n",
    "        # save it in FIF\n",
    "        tmp.save(tmpdir+\"tmp.fif\", overwrite=True, verbose=None)\n",
    "        \n",
    "    # re-read it so it is now a mne.Epochs\n",
    "    mneEpo = mne.read_epochs(tmpdir+\"tmp.fif\")\n",
    "    \n",
    "    return mneEpo\n"
   ]
  },
  {
   "cell_type": "code",
   "execution_count": 56,
   "metadata": {},
   "outputs": [
    {
     "name": "stdout",
     "output_type": "stream",
     "text": [
      "Extracting parameters from /Users/zoubou/Documents/Work/NYU/Brito-Lab/FINS-Codes/../FINS-data/220_child_FP/FINS_220_Child_FreePlay_xchan_rej3.set...\n",
      "Not setting metadata\n",
      "159 matching events found\n",
      "No baseline correction applied\n",
      "0 projection items activated\n",
      "Ready.\n",
      "Reading /var/folders/vv/stc9rswn5c95vxdzpx7z6qqr0000gn/T/tmpvt4z3dihtmp.fif ...\n",
      "    Found the data of interest:\n",
      "        t =       0.00 ...     998.00 ms\n",
      "        0 CTF compensation matrices available\n"
     ]
    },
    {
     "name": "stderr",
     "output_type": "stream",
     "text": [
      "/var/folders/vv/stc9rswn5c95vxdzpx7z6qqr0000gn/T/ipykernel_18237/3476922358.py:17: RuntimeWarning: At least one epoch has multiple events. Only the latency of the first event will be retained.\n",
      "  tmp = mne.io.read_epochs_eeglab(path)\n",
      "/var/folders/vv/stc9rswn5c95vxdzpx7z6qqr0000gn/T/ipykernel_18237/3476922358.py:22: RuntimeWarning: This filename (/var/folders/vv/stc9rswn5c95vxdzpx7z6qqr0000gn/T/tmpvt4z3dihtmp.fif) does not conform to MNE naming conventions. All epochs files should end with -epo.fif, -epo.fif.gz, _epo.fif or _epo.fif.gz\n",
      "  tmp.save(tmpdir+\"tmp.fif\", overwrite=True, verbose=None)\n",
      "/var/folders/vv/stc9rswn5c95vxdzpx7z6qqr0000gn/T/ipykernel_18237/3476922358.py:25: RuntimeWarning: This filename (/var/folders/vv/stc9rswn5c95vxdzpx7z6qqr0000gn/T/tmpvt4z3dihtmp.fif) does not conform to MNE naming conventions. All epochs files should end with -epo.fif, -epo.fif.gz, _epo.fif or _epo.fif.gz\n",
      "  mneEpo = mne.read_epochs(tmpdir+\"tmp.fif\")\n"
     ]
    },
    {
     "name": "stdout",
     "output_type": "stream",
     "text": [
      "0 bad epochs dropped\n",
      "Not setting metadata\n",
      "159 matching events found\n",
      "No baseline correction applied\n",
      "0 projection items activated\n"
     ]
    }
   ],
   "source": [
    "eeg1 = EpochsEEGLAB_to_mneEpochs('{}{}_{}_FP/{}'.format(data_path, dy[0], 'child', dy[1])) "
   ]
  },
  {
   "cell_type": "code",
   "execution_count": 58,
   "metadata": {},
   "outputs": [
    {
     "data": {
      "text/plain": [
       "mne.epochs.EpochsFIF"
      ]
     },
     "execution_count": 58,
     "metadata": {},
     "output_type": "execute_result"
    }
   ],
   "source": [
    "type(eeg1)"
   ]
  },
  {
   "cell_type": "code",
   "execution_count": 46,
   "metadata": {},
   "outputs": [
    {
     "name": "stdout",
     "output_type": "stream",
     "text": [
      "Extracting parameters from /Users/zoubou/Documents/Work/NYU/Brito-Lab/FINS-Codes/../FINS-data/220_child_FP/FINS_220_Child_FreePlay_xchan_rej3.set...\n",
      "Not setting metadata\n",
      "159 matching events found\n",
      "No baseline correction applied\n",
      "0 projection items activated\n",
      "Ready.\n",
      "Extracting parameters from /Users/zoubou/Documents/Work/NYU/Brito-Lab/FINS-Codes/../FINS-data/220_adult_FP/FINS_220_Adult_FreePlay_xchan_ica_rej3.set...\n",
      "Not setting metadata\n",
      "206 matching events found\n",
      "No baseline correction applied\n",
      "0 projection items activated\n",
      "Ready.\n",
      "Not setting metadata\n",
      "159 matching events found\n",
      "No baseline correction applied\n",
      "0 bad epochs dropped\n"
     ]
    },
    {
     "name": "stderr",
     "output_type": "stream",
     "text": [
      "/var/folders/vv/stc9rswn5c95vxdzpx7z6qqr0000gn/T/ipykernel_18237/581870941.py:9: RuntimeWarning: At least one epoch has multiple events. Only the latency of the first event will be retained.\n",
      "  eeg1 = mne.io.read_epochs_eeglab('{}{}_{}_FP/{}'.format(data_path, dy[0], 'child', dy[1]))\n",
      "/var/folders/vv/stc9rswn5c95vxdzpx7z6qqr0000gn/T/ipykernel_18237/581870941.py:10: RuntimeWarning: At least one epoch has multiple events. Only the latency of the first event will be retained.\n",
      "  eeg2 = mne.io.read_epochs_eeglab('{}{}_{}_FP/{}'.format(data_path, dy[0], 'adult', dy[2]))\n"
     ]
    },
    {
     "ename": "ValueError",
     "evalue": "The first argument to `Epochs` must be an instance of mne.io.BaseRaw",
     "output_type": "error",
     "traceback": [
      "\u001b[0;31m---------------------------------------------------------------------------\u001b[0m",
      "\u001b[0;31mValueError\u001b[0m                                Traceback (most recent call last)",
      "\u001b[1;32m/Users/zoubou/Documents/Work/NYU/Brito-Lab/FINS-Codes/realigne-eeg-streams.ipynb Cell 8\u001b[0m in \u001b[0;36m<cell line: 13>\u001b[0;34m()\u001b[0m\n\u001b[1;32m     <a href='vscode-notebook-cell:/Users/zoubou/Documents/Work/NYU/Brito-Lab/FINS-Codes/realigne-eeg-streams.ipynb#X10sZmlsZQ%3D%3D?line=9'>10</a>\u001b[0m eeg2 \u001b[39m=\u001b[39m mne\u001b[39m.\u001b[39mio\u001b[39m.\u001b[39mread_epochs_eeglab(\u001b[39m'\u001b[39m\u001b[39m{}\u001b[39;00m\u001b[39m{}\u001b[39;00m\u001b[39m_\u001b[39m\u001b[39m{}\u001b[39;00m\u001b[39m_FP/\u001b[39m\u001b[39m{}\u001b[39;00m\u001b[39m'\u001b[39m\u001b[39m.\u001b[39mformat(data_path, dy[\u001b[39m0\u001b[39m], \u001b[39m'\u001b[39m\u001b[39madult\u001b[39m\u001b[39m'\u001b[39m, dy[\u001b[39m2\u001b[39m]))\n\u001b[1;32m     <a href='vscode-notebook-cell:/Users/zoubou/Documents/Work/NYU/Brito-Lab/FINS-Codes/realigne-eeg-streams.ipynb#X10sZmlsZQ%3D%3D?line=11'>12</a>\u001b[0m \u001b[39m# Convert the mne.io.eeglab.eeglab.EpochsEEGLAB object in regular  \u001b[39;00m\n\u001b[0;32m---> <a href='vscode-notebook-cell:/Users/zoubou/Documents/Work/NYU/Brito-Lab/FINS-Codes/realigne-eeg-streams.ipynb#X10sZmlsZQ%3D%3D?line=12'>13</a>\u001b[0m eeg1 \u001b[39m=\u001b[39m mne\u001b[39m.\u001b[39;49mEpochs(mne\u001b[39m.\u001b[39;49mepochs\u001b[39m.\u001b[39;49mconcatenate_epochs([eeg1]), eeg1\u001b[39m.\u001b[39;49mevents)\n\u001b[1;32m     <a href='vscode-notebook-cell:/Users/zoubou/Documents/Work/NYU/Brito-Lab/FINS-Codes/realigne-eeg-streams.ipynb#X10sZmlsZQ%3D%3D?line=13'>14</a>\u001b[0m eeg2 \u001b[39m=\u001b[39m mne\u001b[39m.\u001b[39mEpochs(mne\u001b[39m.\u001b[39mepochs\u001b[39m.\u001b[39mconcatenate_epochs([eeg2]), eeg2\u001b[39m.\u001b[39mevents)\n",
      "File \u001b[0;32m<decorator-gen-255>:12\u001b[0m, in \u001b[0;36m__init__\u001b[0;34m(self, raw, events, event_id, tmin, tmax, baseline, picks, preload, reject, flat, proj, decim, reject_tmin, reject_tmax, detrend, on_missing, reject_by_annotation, metadata, event_repeated, verbose)\u001b[0m\n",
      "File \u001b[0;32m~/opt/anaconda3/lib/python3.8/site-packages/mne/epochs.py:2637\u001b[0m, in \u001b[0;36mEpochs.__init__\u001b[0;34m(self, raw, events, event_id, tmin, tmax, baseline, picks, preload, reject, flat, proj, decim, reject_tmin, reject_tmax, detrend, on_missing, reject_by_annotation, metadata, event_repeated, verbose)\u001b[0m\n\u001b[1;32m   2629\u001b[0m \u001b[39m@verbose\u001b[39m\n\u001b[1;32m   2630\u001b[0m \u001b[39mdef\u001b[39;00m \u001b[39m__init__\u001b[39m(\u001b[39mself\u001b[39m, raw, events, event_id\u001b[39m=\u001b[39m\u001b[39mNone\u001b[39;00m, tmin\u001b[39m=\u001b[39m\u001b[39m-\u001b[39m\u001b[39m0.2\u001b[39m, tmax\u001b[39m=\u001b[39m\u001b[39m0.5\u001b[39m,\n\u001b[1;32m   2631\u001b[0m              baseline\u001b[39m=\u001b[39m(\u001b[39mNone\u001b[39;00m, \u001b[39m0\u001b[39m), picks\u001b[39m=\u001b[39m\u001b[39mNone\u001b[39;00m, preload\u001b[39m=\u001b[39m\u001b[39mFalse\u001b[39;00m, reject\u001b[39m=\u001b[39m\u001b[39mNone\u001b[39;00m,\n\u001b[0;32m   (...)\u001b[0m\n\u001b[1;32m   2634\u001b[0m              reject_by_annotation\u001b[39m=\u001b[39m\u001b[39mTrue\u001b[39;00m, metadata\u001b[39m=\u001b[39m\u001b[39mNone\u001b[39;00m,\n\u001b[1;32m   2635\u001b[0m              event_repeated\u001b[39m=\u001b[39m\u001b[39m'\u001b[39m\u001b[39merror\u001b[39m\u001b[39m'\u001b[39m, verbose\u001b[39m=\u001b[39m\u001b[39mNone\u001b[39;00m):  \u001b[39m# noqa: D102\u001b[39;00m\n\u001b[1;32m   2636\u001b[0m     \u001b[39mif\u001b[39;00m \u001b[39mnot\u001b[39;00m \u001b[39misinstance\u001b[39m(raw, BaseRaw):\n\u001b[0;32m-> 2637\u001b[0m         \u001b[39mraise\u001b[39;00m \u001b[39mValueError\u001b[39;00m(\u001b[39m'\u001b[39m\u001b[39mThe first argument to `Epochs` must be an \u001b[39m\u001b[39m'\u001b[39m\n\u001b[1;32m   2638\u001b[0m                          \u001b[39m'\u001b[39m\u001b[39minstance of mne.io.BaseRaw\u001b[39m\u001b[39m'\u001b[39m)\n\u001b[1;32m   2639\u001b[0m     info \u001b[39m=\u001b[39m deepcopy(raw\u001b[39m.\u001b[39minfo)\n\u001b[1;32m   2641\u001b[0m     \u001b[39m# proj is on when applied in Raw\u001b[39;00m\n",
      "\u001b[0;31mValueError\u001b[0m: The first argument to `Epochs` must be an instance of mne.io.BaseRaw"
     ]
    }
   ],
   "source": [
    "files_to_process = np.loadtxt(\"files_to_process.csv\",\n",
    "                 delimiter=\",\", dtype=str)\n",
    "\n",
    "dyad = [x for x in files_to_process]\n",
    "# Careful, the file_to_process is in the order (dyad_nb, eeg_filepath_child, eeg_filepath_adutl)\n",
    "dy = dyad[0]\n",
    "data_path = '../FINS-data/'\n",
    "\n",
    "eeg1 = mne.io.read_epochs_eeglab('{}{}_{}_FP/{}'.format(data_path, dy[0], 'child', dy[1])) \n",
    "eeg2 = mne.io.read_epochs_eeglab('{}{}_{}_FP/{}'.format(data_path, dy[0], 'adult', dy[2]))"
   ]
  },
  {
   "cell_type": "markdown",
   "metadata": {},
   "source": [
    "Let's see how many epochs we have per EEG file:"
   ]
  },
  {
   "cell_type": "code",
   "execution_count": 25,
   "metadata": {},
   "outputs": [
    {
     "name": "stdout",
     "output_type": "stream",
     "text": [
      "EEG1 is shape: (159, 18, 500)\n",
      "EEG2 is shape: (206, 20, 500)\n"
     ]
    }
   ],
   "source": [
    "print('EEG1 is shape: {}'.format(eeg1.get_data().shape))\n",
    "print('EEG2 is shape: {}'.format(eeg2.get_data().shape))"
   ]
  },
  {
   "attachments": {},
   "cell_type": "markdown",
   "metadata": {},
   "source": [
    "### What's the plan now?\n",
    "\n",
    "You have the following epoch indexes in your preprocessed file: \n",
    "\n",
    "`1, 2, 3, 4, 5, 6, 7`\n",
    "\n",
    "And you know that the following epochs were rejected:\n",
    "\n",
    "`3, 7, 8`\n",
    "\n",
    "We'll now reconstruct the original epoch index as follows? (With in brackets):\n",
    "\n",
    "`1(1), 2(2), NaN, 4(3), 5(4), 6(5), NaN, NaN, 9(6), 10(7)`"
   ]
  },
  {
   "cell_type": "code",
   "execution_count": 10,
   "metadata": {},
   "outputs": [],
   "source": [
    "df1 = eeg1.to_data_frame()\n",
    "df2 = eeg2.to_data_frame()"
   ]
  },
  {
   "cell_type": "code",
   "execution_count": 15,
   "metadata": {},
   "outputs": [
    {
     "data": {
      "text/plain": [
       "(206, 20, 500)"
      ]
     },
     "execution_count": 15,
     "metadata": {},
     "output_type": "execute_result"
    }
   ],
   "source": [
    "eeg2.get_data().shape"
   ]
  },
  {
   "cell_type": "code",
   "execution_count": 26,
   "metadata": {},
   "outputs": [
    {
     "data": {
      "text/html": [
       "<div>\n",
       "<style scoped>\n",
       "    .dataframe tbody tr th:only-of-type {\n",
       "        vertical-align: middle;\n",
       "    }\n",
       "\n",
       "    .dataframe tbody tr th {\n",
       "        vertical-align: top;\n",
       "    }\n",
       "\n",
       "    .dataframe thead th {\n",
       "        text-align: right;\n",
       "    }\n",
       "</style>\n",
       "<table border=\"1\" class=\"dataframe\">\n",
       "  <thead>\n",
       "    <tr style=\"text-align: right;\">\n",
       "      <th></th>\n",
       "      <th>time</th>\n",
       "      <th>condition</th>\n",
       "      <th>epoch</th>\n",
       "      <th>P7</th>\n",
       "      <th>P4</th>\n",
       "      <th>Cz</th>\n",
       "      <th>Pz</th>\n",
       "      <th>P3</th>\n",
       "      <th>P8</th>\n",
       "      <th>O1</th>\n",
       "      <th>...</th>\n",
       "      <th>C4</th>\n",
       "      <th>F4</th>\n",
       "      <th>Fp2</th>\n",
       "      <th>Fz</th>\n",
       "      <th>C3</th>\n",
       "      <th>F3</th>\n",
       "      <th>Fp1</th>\n",
       "      <th>T7</th>\n",
       "      <th>F7</th>\n",
       "      <th>Oz</th>\n",
       "    </tr>\n",
       "  </thead>\n",
       "  <tbody>\n",
       "    <tr>\n",
       "      <th>0</th>\n",
       "      <td>0</td>\n",
       "      <td>1/1</td>\n",
       "      <td>0</td>\n",
       "      <td>50.007144</td>\n",
       "      <td>67.097712</td>\n",
       "      <td>74.785546</td>\n",
       "      <td>64.095482</td>\n",
       "      <td>68.746785</td>\n",
       "      <td>61.190194</td>\n",
       "      <td>58.187683</td>\n",
       "      <td>...</td>\n",
       "      <td>71.859784</td>\n",
       "      <td>79.115339</td>\n",
       "      <td>103.201126</td>\n",
       "      <td>79.280051</td>\n",
       "      <td>69.528617</td>\n",
       "      <td>70.778777</td>\n",
       "      <td>111.769425</td>\n",
       "      <td>63.853228</td>\n",
       "      <td>61.680522</td>\n",
       "      <td>54.456231</td>\n",
       "    </tr>\n",
       "    <tr>\n",
       "      <th>1</th>\n",
       "      <td>2</td>\n",
       "      <td>1/1</td>\n",
       "      <td>0</td>\n",
       "      <td>63.357493</td>\n",
       "      <td>74.721462</td>\n",
       "      <td>81.758160</td>\n",
       "      <td>74.186885</td>\n",
       "      <td>77.106621</td>\n",
       "      <td>68.585786</td>\n",
       "      <td>67.604153</td>\n",
       "      <td>...</td>\n",
       "      <td>78.411306</td>\n",
       "      <td>84.920699</td>\n",
       "      <td>113.596413</td>\n",
       "      <td>86.832003</td>\n",
       "      <td>77.530439</td>\n",
       "      <td>80.743721</td>\n",
       "      <td>120.006202</td>\n",
       "      <td>73.135665</td>\n",
       "      <td>70.828804</td>\n",
       "      <td>62.891782</td>\n",
       "    </tr>\n",
       "    <tr>\n",
       "      <th>2</th>\n",
       "      <td>4</td>\n",
       "      <td>1/1</td>\n",
       "      <td>0</td>\n",
       "      <td>72.101846</td>\n",
       "      <td>77.203621</td>\n",
       "      <td>83.228289</td>\n",
       "      <td>79.242362</td>\n",
       "      <td>80.296379</td>\n",
       "      <td>70.899892</td>\n",
       "      <td>72.118273</td>\n",
       "      <td>...</td>\n",
       "      <td>79.484791</td>\n",
       "      <td>84.687884</td>\n",
       "      <td>115.772026</td>\n",
       "      <td>88.243307</td>\n",
       "      <td>80.148579</td>\n",
       "      <td>84.591111</td>\n",
       "      <td>119.929477</td>\n",
       "      <td>77.450413</td>\n",
       "      <td>74.161452</td>\n",
       "      <td>66.580707</td>\n",
       "    </tr>\n",
       "    <tr>\n",
       "      <th>3</th>\n",
       "      <td>6</td>\n",
       "      <td>1/1</td>\n",
       "      <td>0</td>\n",
       "      <td>75.963124</td>\n",
       "      <td>74.808941</td>\n",
       "      <td>79.528803</td>\n",
       "      <td>79.322815</td>\n",
       "      <td>78.492790</td>\n",
       "      <td>68.413974</td>\n",
       "      <td>71.808366</td>\n",
       "      <td>...</td>\n",
       "      <td>75.443100</td>\n",
       "      <td>78.844239</td>\n",
       "      <td>110.184021</td>\n",
       "      <td>83.839767</td>\n",
       "      <td>77.610111</td>\n",
       "      <td>82.467808</td>\n",
       "      <td>112.111202</td>\n",
       "      <td>76.869096</td>\n",
       "      <td>71.849372</td>\n",
       "      <td>65.654789</td>\n",
       "    </tr>\n",
       "    <tr>\n",
       "      <th>4</th>\n",
       "      <td>8</td>\n",
       "      <td>1/1</td>\n",
       "      <td>0</td>\n",
       "      <td>75.252884</td>\n",
       "      <td>68.389439</td>\n",
       "      <td>71.616138</td>\n",
       "      <td>75.089795</td>\n",
       "      <td>72.470167</td>\n",
       "      <td>61.983293</td>\n",
       "      <td>67.328069</td>\n",
       "      <td>...</td>\n",
       "      <td>67.266632</td>\n",
       "      <td>68.483906</td>\n",
       "      <td>98.213914</td>\n",
       "      <td>74.644814</td>\n",
       "      <td>70.762839</td>\n",
       "      <td>75.244680</td>\n",
       "      <td>98.049532</td>\n",
       "      <td>72.049465</td>\n",
       "      <td>64.740150</td>\n",
       "      <td>60.796686</td>\n",
       "    </tr>\n",
       "    <tr>\n",
       "      <th>...</th>\n",
       "      <td>...</td>\n",
       "      <td>...</td>\n",
       "      <td>...</td>\n",
       "      <td>...</td>\n",
       "      <td>...</td>\n",
       "      <td>...</td>\n",
       "      <td>...</td>\n",
       "      <td>...</td>\n",
       "      <td>...</td>\n",
       "      <td>...</td>\n",
       "      <td>...</td>\n",
       "      <td>...</td>\n",
       "      <td>...</td>\n",
       "      <td>...</td>\n",
       "      <td>...</td>\n",
       "      <td>...</td>\n",
       "      <td>...</td>\n",
       "      <td>...</td>\n",
       "      <td>...</td>\n",
       "      <td>...</td>\n",
       "      <td>...</td>\n",
       "    </tr>\n",
       "    <tr>\n",
       "      <th>495</th>\n",
       "      <td>990</td>\n",
       "      <td>1/1</td>\n",
       "      <td>0</td>\n",
       "      <td>-21.602268</td>\n",
       "      <td>-8.803831</td>\n",
       "      <td>-2.430042</td>\n",
       "      <td>-12.544837</td>\n",
       "      <td>-6.698572</td>\n",
       "      <td>-11.041024</td>\n",
       "      <td>-19.920398</td>\n",
       "      <td>...</td>\n",
       "      <td>-0.813420</td>\n",
       "      <td>7.099338</td>\n",
       "      <td>2.067687</td>\n",
       "      <td>3.493729</td>\n",
       "      <td>-5.338386</td>\n",
       "      <td>-6.266442</td>\n",
       "      <td>1.446034</td>\n",
       "      <td>-16.856238</td>\n",
       "      <td>-13.486953</td>\n",
       "      <td>-17.389485</td>\n",
       "    </tr>\n",
       "    <tr>\n",
       "      <th>496</th>\n",
       "      <td>992</td>\n",
       "      <td>1/1</td>\n",
       "      <td>0</td>\n",
       "      <td>-19.844252</td>\n",
       "      <td>-8.197414</td>\n",
       "      <td>-2.929153</td>\n",
       "      <td>-11.607762</td>\n",
       "      <td>-5.212659</td>\n",
       "      <td>-10.610563</td>\n",
       "      <td>-18.312435</td>\n",
       "      <td>...</td>\n",
       "      <td>-1.041181</td>\n",
       "      <td>6.128819</td>\n",
       "      <td>1.122069</td>\n",
       "      <td>2.416392</td>\n",
       "      <td>-4.513748</td>\n",
       "      <td>-6.978411</td>\n",
       "      <td>0.361878</td>\n",
       "      <td>-15.097175</td>\n",
       "      <td>-13.791617</td>\n",
       "      <td>-15.862565</td>\n",
       "    </tr>\n",
       "    <tr>\n",
       "      <th>497</th>\n",
       "      <td>994</td>\n",
       "      <td>1/1</td>\n",
       "      <td>0</td>\n",
       "      <td>-18.427612</td>\n",
       "      <td>-7.893837</td>\n",
       "      <td>-3.766737</td>\n",
       "      <td>-10.923816</td>\n",
       "      <td>-4.058723</td>\n",
       "      <td>-10.513751</td>\n",
       "      <td>-16.599374</td>\n",
       "      <td>...</td>\n",
       "      <td>-1.712555</td>\n",
       "      <td>4.319831</td>\n",
       "      <td>-0.846225</td>\n",
       "      <td>0.631389</td>\n",
       "      <td>-3.955769</td>\n",
       "      <td>-8.248428</td>\n",
       "      <td>-1.467320</td>\n",
       "      <td>-13.487941</td>\n",
       "      <td>-14.050410</td>\n",
       "      <td>-14.209631</td>\n",
       "    </tr>\n",
       "    <tr>\n",
       "      <th>498</th>\n",
       "      <td>996</td>\n",
       "      <td>1/1</td>\n",
       "      <td>0</td>\n",
       "      <td>-17.398462</td>\n",
       "      <td>-7.919489</td>\n",
       "      <td>-4.878152</td>\n",
       "      <td>-10.566254</td>\n",
       "      <td>-3.338510</td>\n",
       "      <td>-10.700125</td>\n",
       "      <td>-14.920945</td>\n",
       "      <td>...</td>\n",
       "      <td>-2.800756</td>\n",
       "      <td>1.753729</td>\n",
       "      <td>-3.767308</td>\n",
       "      <td>-1.748907</td>\n",
       "      <td>-3.730944</td>\n",
       "      <td>-9.988915</td>\n",
       "      <td>-3.850204</td>\n",
       "      <td>-12.208319</td>\n",
       "      <td>-14.222343</td>\n",
       "      <td>-12.567473</td>\n",
       "    </tr>\n",
       "    <tr>\n",
       "      <th>499</th>\n",
       "      <td>998</td>\n",
       "      <td>1/1</td>\n",
       "      <td>0</td>\n",
       "      <td>-16.782727</td>\n",
       "      <td>-8.278455</td>\n",
       "      <td>-6.197393</td>\n",
       "      <td>-10.599053</td>\n",
       "      <td>-3.129776</td>\n",
       "      <td>-11.096414</td>\n",
       "      <td>-13.429450</td>\n",
       "      <td>...</td>\n",
       "      <td>-4.251469</td>\n",
       "      <td>-1.425754</td>\n",
       "      <td>-7.475119</td>\n",
       "      <td>-4.569893</td>\n",
       "      <td>-3.898391</td>\n",
       "      <td>-12.074242</td>\n",
       "      <td>-6.578002</td>\n",
       "      <td>-11.406795</td>\n",
       "      <td>-14.295824</td>\n",
       "      <td>-11.086532</td>\n",
       "    </tr>\n",
       "  </tbody>\n",
       "</table>\n",
       "<p>500 rows × 23 columns</p>\n",
       "</div>"
      ],
      "text/plain": [
       "     time condition  epoch         P7         P4         Cz         Pz  \\\n",
       "0       0       1/1      0  50.007144  67.097712  74.785546  64.095482   \n",
       "1       2       1/1      0  63.357493  74.721462  81.758160  74.186885   \n",
       "2       4       1/1      0  72.101846  77.203621  83.228289  79.242362   \n",
       "3       6       1/1      0  75.963124  74.808941  79.528803  79.322815   \n",
       "4       8       1/1      0  75.252884  68.389439  71.616138  75.089795   \n",
       "..    ...       ...    ...        ...        ...        ...        ...   \n",
       "495   990       1/1      0 -21.602268  -8.803831  -2.430042 -12.544837   \n",
       "496   992       1/1      0 -19.844252  -8.197414  -2.929153 -11.607762   \n",
       "497   994       1/1      0 -18.427612  -7.893837  -3.766737 -10.923816   \n",
       "498   996       1/1      0 -17.398462  -7.919489  -4.878152 -10.566254   \n",
       "499   998       1/1      0 -16.782727  -8.278455  -6.197393 -10.599053   \n",
       "\n",
       "            P3         P8         O1  ...         C4         F4         Fp2  \\\n",
       "0    68.746785  61.190194  58.187683  ...  71.859784  79.115339  103.201126   \n",
       "1    77.106621  68.585786  67.604153  ...  78.411306  84.920699  113.596413   \n",
       "2    80.296379  70.899892  72.118273  ...  79.484791  84.687884  115.772026   \n",
       "3    78.492790  68.413974  71.808366  ...  75.443100  78.844239  110.184021   \n",
       "4    72.470167  61.983293  67.328069  ...  67.266632  68.483906   98.213914   \n",
       "..         ...        ...        ...  ...        ...        ...         ...   \n",
       "495  -6.698572 -11.041024 -19.920398  ...  -0.813420   7.099338    2.067687   \n",
       "496  -5.212659 -10.610563 -18.312435  ...  -1.041181   6.128819    1.122069   \n",
       "497  -4.058723 -10.513751 -16.599374  ...  -1.712555   4.319831   -0.846225   \n",
       "498  -3.338510 -10.700125 -14.920945  ...  -2.800756   1.753729   -3.767308   \n",
       "499  -3.129776 -11.096414 -13.429450  ...  -4.251469  -1.425754   -7.475119   \n",
       "\n",
       "            Fz         C3         F3         Fp1         T7         F7  \\\n",
       "0    79.280051  69.528617  70.778777  111.769425  63.853228  61.680522   \n",
       "1    86.832003  77.530439  80.743721  120.006202  73.135665  70.828804   \n",
       "2    88.243307  80.148579  84.591111  119.929477  77.450413  74.161452   \n",
       "3    83.839767  77.610111  82.467808  112.111202  76.869096  71.849372   \n",
       "4    74.644814  70.762839  75.244680   98.049532  72.049465  64.740150   \n",
       "..         ...        ...        ...         ...        ...        ...   \n",
       "495   3.493729  -5.338386  -6.266442    1.446034 -16.856238 -13.486953   \n",
       "496   2.416392  -4.513748  -6.978411    0.361878 -15.097175 -13.791617   \n",
       "497   0.631389  -3.955769  -8.248428   -1.467320 -13.487941 -14.050410   \n",
       "498  -1.748907  -3.730944  -9.988915   -3.850204 -12.208319 -14.222343   \n",
       "499  -4.569893  -3.898391 -12.074242   -6.578002 -11.406795 -14.295824   \n",
       "\n",
       "            Oz  \n",
       "0    54.456231  \n",
       "1    62.891782  \n",
       "2    66.580707  \n",
       "3    65.654789  \n",
       "4    60.796686  \n",
       "..         ...  \n",
       "495 -17.389485  \n",
       "496 -15.862565  \n",
       "497 -14.209631  \n",
       "498 -12.567473  \n",
       "499 -11.086532  \n",
       "\n",
       "[500 rows x 23 columns]"
      ]
     },
     "execution_count": 26,
     "metadata": {},
     "output_type": "execute_result"
    }
   ],
   "source": [
    "df2.query('epoch == 0')\n"
   ]
  },
  {
   "cell_type": "code",
   "execution_count": 31,
   "metadata": {},
   "outputs": [
    {
     "ename": "AttributeError",
     "evalue": "module 'mne' has no attribute 'from_eeglab'",
     "output_type": "error",
     "traceback": [
      "\u001b[0;31m---------------------------------------------------------------------------\u001b[0m",
      "\u001b[0;31mAttributeError\u001b[0m                            Traceback (most recent call last)",
      "\u001b[1;32m/Users/zoubou/Documents/Work/NYU/Brito-Lab/FINS-Codes/realigne-eeg-streams.ipynb Cell 14\u001b[0m in \u001b[0;36m<cell line: 1>\u001b[0;34m()\u001b[0m\n\u001b[0;32m----> <a href='vscode-notebook-cell:/Users/zoubou/Documents/Work/NYU/Brito-Lab/FINS-Codes/realigne-eeg-streams.ipynb#X23sZmlsZQ%3D%3D?line=0'>1</a>\u001b[0m eeg2 \u001b[39m=\u001b[39m mne\u001b[39m.\u001b[39;49mfrom_eeglab(eeg2)\n\u001b[1;32m      <a href='vscode-notebook-cell:/Users/zoubou/Documents/Work/NYU/Brito-Lab/FINS-Codes/realigne-eeg-streams.ipynb#X23sZmlsZQ%3D%3D?line=1'>2</a>\u001b[0m eeg3  \u001b[39m=\u001b[39m eeg2\n\u001b[1;32m      <a href='vscode-notebook-cell:/Users/zoubou/Documents/Work/NYU/Brito-Lab/FINS-Codes/realigne-eeg-streams.ipynb#X23sZmlsZQ%3D%3D?line=2'>3</a>\u001b[0m modified_epochs \u001b[39m=\u001b[39m eeg3\u001b[39m.\u001b[39mfrom_data_frame(df2\u001b[39m.\u001b[39mquery(\u001b[39m'\u001b[39m\u001b[39mepoch == 0\u001b[39m\u001b[39m'\u001b[39m), eeg2\u001b[39m.\u001b[39minfo, tmin\u001b[39m=\u001b[39meeg2\u001b[39m.\u001b[39mtmin, tmax\u001b[39m=\u001b[39meeg2\u001b[39m.\u001b[39mtmax)\n",
      "\u001b[0;31mAttributeError\u001b[0m: module 'mne' has no attribute 'from_eeglab'"
     ]
    }
   ],
   "source": [
    "eeg2 = mne.from_eeglab(eeg2)\n",
    "eeg3  = eeg2\n",
    "modified_epochs = eeg3.from_data_frame(df2.query('epoch == 0'), eeg2.info, tmin=eeg2.tmin, tmax=eeg2.tmax)"
   ]
  },
  {
   "cell_type": "markdown",
   "metadata": {},
   "source": [
    "## Useful references"
   ]
  },
  {
   "cell_type": "markdown",
   "metadata": {},
   "source": [
    "- To get comfortable with the MNE documentation, you should know that MNE is based on python [Object Oriented Programming (00P)](https://realpython.com/python3-object-oriented-programming/). These objects are defined from a python `Class`.\n",
    "    - You can get familiarized with the OOP structure and its componenent, e.g. `methods` (a function associated to the the object) and `attribute` (a variable associated to the object), wit [this tutorial](https://www.datacamp.com/tutorial/python-oop-tutorial).\n",
    "    - In MNE, we find [`Raw` objects](https://mne.tools/stable/generated/mne.io.Raw.html) (continuous data) or [`Epoch` objects](https://mne.tools/stable/generated/mne.Epochs.html) (a collection of epochs). \n",
    "\n",
    "You can find an introduction to the **Epochs data structure** [here](https://mne.tools/stable/auto_tutorials/epochs/10_epochs_overview.html) in MNE. "
   ]
  },
  {
   "cell_type": "markdown",
   "metadata": {},
   "source": []
  }
 ],
 "metadata": {
  "kernelspec": {
   "display_name": "Python 3.8.8",
   "language": "python",
   "name": "python3"
  },
  "language_info": {
   "codemirror_mode": {
    "name": "ipython",
    "version": 3
   },
   "file_extension": ".py",
   "mimetype": "text/x-python",
   "name": "python",
   "nbconvert_exporter": "python",
   "pygments_lexer": "ipython3",
   "version": "3.8.8"
  },
  "orig_nbformat": 4,
  "vscode": {
   "interpreter": {
    "hash": "9d93afb8cdc34b2bdea5bf079bccd93013ea04d457e334f9ae90fb664fbdee86"
   }
  }
 },
 "nbformat": 4,
 "nbformat_minor": 2
}
